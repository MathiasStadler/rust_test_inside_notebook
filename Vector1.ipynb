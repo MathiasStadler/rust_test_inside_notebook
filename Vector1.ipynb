{
 "cells": [
  {
   "cell_type": "markdown",
   "metadata": {},
   "source": [
    "# RUST Vector\n",
    "- [ ] create empty vector with type\n",
    "- [ ] create a vector of u32\n",
    "- [ ] create a vector of string\n",
    "- [ ] print vec\n",
    "- [ ] push value to vec\n",
    "- [ ] pop value from vec\n",
    "- [ ] merge two vec\n",
    "- [ ] loop through vector\n",
    "- [ ]   - pass vec to fn\n",
    "- [ ] return vec from fn"
   ]
  },
  {
   "cell_type": "markdown",
   "metadata": {},
   "source": [
    "# [create empty vector with type]()"
   ]
  },
  {
   "cell_type": "code",
   "execution_count": null,
   "metadata": {},
   "outputs": [],
   "source": []
  }
 ],
 "metadata": {
  "language_info": {
   "name": "python"
  },
  "orig_nbformat": 4
 },
 "nbformat": 4,
 "nbformat_minor": 2
}
