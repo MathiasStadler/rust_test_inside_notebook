{
 "cells": [
  {
   "cell_type": "markdown",
   "metadata": {},
   "source": [
    "# RUST Vector\n",
    "\n",
    "- create empty vector without type\n",
    "- create a vector of u8\n",
    "- Accessing Elements of a Vector in Rust\n",
    "- Accessing Elements of a Vector using the get() method in Rust\n",
    "- Handle option value and not found\n",
    "- Adding Values to a Vector in Rust -> push\n",
    "- Removing Values from a Vector in Rust -> remove\n",
    "- create a vector of string and str\n",
    "- print vec\n",
    "- push value to vec\n",
    "- pop value from vec\n",
    "- merge two vec\n",
    "- loop through vector\n",
    "- pass vec to fn"
   ]
  },
  {
   "cell_type": "markdown",
   "metadata": {},
   "source": [
    "[FROM HERE](https://www.programiz.com/rust/vector)"
   ]
  },
  {
   "cell_type": "markdown",
   "metadata": {},
   "source": [
    "[ ] return vec from fn"
   ]
  },
  {
   "cell_type": "markdown",
   "metadata": {},
   "source": [
    "- create empty vector without type  "
   ]
  },
  {
   "cell_type": "code",
   "execution_count": 3,
   "metadata": {
    "vscode": {
     "languageId": "rust"
    }
   },
   "outputs": [
    {
     "name": "stdout",
     "output_type": "stream",
     "text": [
      "[1, 2, 3]\n"
     ]
    }
   ],
   "source": [
    "let v = vec![1, 2, 3];\n",
    "println!(\"{:?}\",v);"
   ]
  },
  {
   "cell_type": "markdown",
   "metadata": {},
   "source": [
    "- create a vector of u8"
   ]
  },
  {
   "cell_type": "code",
   "execution_count": 4,
   "metadata": {
    "vscode": {
     "languageId": "rust"
    }
   },
   "outputs": [
    {
     "name": "stdout",
     "output_type": "stream",
     "text": [
      "[1, 2, 3]\n"
     ]
    }
   ],
   "source": [
    "let v: Vec<u8> = vec![1, 2, 3];\n",
    "println!(\"{:?}\",v);"
   ]
  },
  {
   "cell_type": "markdown",
   "metadata": {},
   "source": [
    "  Accessing Elements of a Vector in Rust"
   ]
  },
  {
   "cell_type": "code",
   "execution_count": null,
   "metadata": {
    "vscode": {
     "languageId": "rust"
    }
   },
   "outputs": [],
   "source": [
    "let colors = vec![\"blue\", \"red\", \"green\"];\n",
    "    \n",
    "// method 1: access vector elements using vector index\n",
    "println!(\"first color = {}\", colors[0]);\n",
    "println!(\"second color = {}\", colors[1]);\n",
    "println!(\"third color = {}\", colors[2]);"
   ]
  },
  {
   "cell_type": "markdown",
   "metadata": {},
   "source": [
    "# Accessing Elements of a Vector using the get() method in Rust"
   ]
  },
  {
   "cell_type": "code",
   "execution_count": null,
   "metadata": {
    "vscode": {
     "languageId": "rust"
    }
   },
   "outputs": [],
   "source": [
    "\n",
    "println!(\"first color = {}\", colors[0]);\n",
    "println!(\"first color = {:?}\", colors.get(0)) //Attention get a Option"
   ]
  },
  {
   "cell_type": "markdown",
   "metadata": {},
   "source": [
    "# Handle option value and not found"
   ]
  },
  {
   "cell_type": "markdown",
   "metadata": {},
   "source": [
    "[Option & Result see here](https://www.programiz.com/rust/unwrap-and-expect)"
   ]
  },
  {
   "cell_type": "code",
   "execution_count": 18,
   "metadata": {
    "vscode": {
     "languageId": "rust"
    }
   },
   "outputs": [],
   "source": [
    "fn vector_get_option_found() {\n",
    "    //vector\n",
    "    let colors = vec![\"blue\", \"red\", \"green\"];\n",
    "    // returns an Option\n",
    "    let user_option = colors.get(0);\n",
    "\n",
    "    // use of match expression to get the result out of Option\n",
    "    let result = match user_option {\n",
    "        Some(color) => color,\n",
    "        None => \"not found!\",\n",
    "    };\n",
    "\n",
    "    // print the result\n",
    "    println!(\"color = {:?}\", result);\n",
    "}\n"
   ]
  },
  {
   "cell_type": "code",
   "execution_count": 19,
   "metadata": {
    "vscode": {
     "languageId": "rust"
    }
   },
   "outputs": [
    {
     "name": "stdout",
     "output_type": "stream",
     "text": [
      "user = \"blue\"\n"
     ]
    }
   ],
   "source": [
    "vector_get_option_found();\n"
   ]
  },
  {
   "cell_type": "code",
   "execution_count": 21,
   "metadata": {
    "vscode": {
     "languageId": "rust"
    }
   },
   "outputs": [],
   "source": [
    "fn vector_get_option_not_found() {\n",
    "    //vector\n",
    "    let colors = vec![\"blue\", \"red\", \"green\"];\n",
    "    // returns an Option\n",
    "    let user_option = colors.get(99);\n",
    "\n",
    "    // use of match expression to get the result out of Option\n",
    "    let result = match user_option {\n",
    "        Some(color) => color,\n",
    "        None => \"not found!\",\n",
    "    };\n",
    "\n",
    "    // print the result\n",
    "    println!(\"user = {:?}\", result);\n",
    "}"
   ]
  },
  {
   "cell_type": "code",
   "execution_count": 22,
   "metadata": {
    "vscode": {
     "languageId": "rust"
    }
   },
   "outputs": [
    {
     "name": "stdout",
     "output_type": "stream",
     "text": [
      "user = \"not found!\"\n"
     ]
    }
   ],
   "source": [
    "vector_get_option_not_found();"
   ]
  },
  {
   "cell_type": "markdown",
   "metadata": {},
   "source": [
    "# Adding Values to a Vector in Rust -> push"
   ]
  },
  {
   "cell_type": "code",
   "execution_count": 26,
   "metadata": {
    "vscode": {
     "languageId": "rust"
    }
   },
   "outputs": [],
   "source": [
    "fn vector_push() {\n",
    "    let mut even_numbers = vec![2, 4, 6, 8, 10];\n",
    "\n",
    "    \n",
    "    println!(\"original vector = {:?}\", even_numbers);\n",
    "    \n",
    "    // push values at the end of the vector\n",
    "    even_numbers.push(12);\n",
    "    even_numbers.push(14);\n",
    "\n",
    "    \n",
    "    println!(\"changed vector with added values = {:?}\", even_numbers);\n",
    "}"
   ]
  },
  {
   "cell_type": "code",
   "execution_count": 27,
   "metadata": {
    "vscode": {
     "languageId": "rust"
    }
   },
   "outputs": [
    {
     "name": "stdout",
     "output_type": "stream",
     "text": [
      "original vector = [2, 4, 6, 8, 10]\n",
      "changed vector with added values = [2, 4, 6, 8, 10, 12, 14]\n"
     ]
    }
   ],
   "source": [
    "vector_push();"
   ]
  },
  {
   "cell_type": "markdown",
   "metadata": {},
   "source": [
    "# Removing Values from a Vector in Rust -> remove"
   ]
  },
  {
   "cell_type": "code",
   "execution_count": 35,
   "metadata": {
    "vscode": {
     "languageId": "rust"
    }
   },
   "outputs": [],
   "source": [
    "fn remove_value() {\n",
    "    let mut even_numbers = vec![2, 4, 6, 8, 10];\n",
    "    \n",
    "    println!(\"original vector =                          = {:?}\", even_numbers);\n",
    "    \n",
    "    // remove value from the vector in its second index\n",
    "    even_numbers.remove(2);\n",
    "    //dosen`t work\n",
    "    //even_numbers.remove(-1);\n",
    "\n",
    "    \n",
    "    println!(\"changed vector remove the third value -> 6 = {:?}\", even_numbers);\n",
    "}"
   ]
  },
  {
   "cell_type": "code",
   "execution_count": 36,
   "metadata": {
    "vscode": {
     "languageId": "rust"
    }
   },
   "outputs": [
    {
     "name": "stdout",
     "output_type": "stream",
     "text": [
      "original vector =                          = [2, 4, 6, 8, 10]\n",
      "changed vector remove the third value -> 6 = [2, 4, 8, 10]\n"
     ]
    }
   ],
   "source": [
    "remove_value();"
   ]
  }
 ],
 "metadata": {
  "kernelspec": {
   "display_name": "Rust",
   "language": "rust",
   "name": "rust"
  },
  "language_info": {
   "codemirror_mode": "rust",
   "file_extension": ".rs",
   "mimetype": "text/rust",
   "name": "Rust",
   "pygment_lexer": "rust",
   "version": ""
  },
  "orig_nbformat": 4
 },
 "nbformat": 4,
 "nbformat_minor": 2
}
