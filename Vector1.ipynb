{
 "cells": [
  {
   "cell_type": "markdown",
   "metadata": {},
   "source": [
    "# RUST Vector\n",
    "\n",
    "- create empty vector without type\n",
    "- create a vector of u8\n",
    "- Creating a Vector using Vec::new()\n",
    "- Accessing Elements of a Vector in Rust\n",
    "- Accessing Elements of a Vector using the get() method in Rust\n",
    "- Handle option value and not found\n",
    "- Adding Values to a Vector in Rust -> push\n",
    "- Removing Values from a Vector in Rust -> remove\n",
    "- Looping through a Vector in Rust -> for\n",
    "- pass and back vec to fn\n",
    "- pass vec to fn, modify and get back\n",
    "- vector loop inside fn -> Vec<u8>\n",
    "- vector loop over string inside fn -> Vec<STring>\n",
    "- [space]\n",
    "- create a vector of string and str\n",
    "- print vec\n",
    "- push value to vec\n",
    "- pop value from vec\n",
    "- merge two vec\n",
    "- loop through vector\n",
    "- pass vec and return to fn\n"
   ]
  },
  {
   "cell_type": "markdown",
   "metadata": {},
   "source": [
    "[FROM HERE](https://www.programiz.com/rust/vector)"
   ]
  },
  {
   "cell_type": "markdown",
   "metadata": {},
   "source": [
    "[ ] return vec from fn"
   ]
  },
  {
   "cell_type": "markdown",
   "metadata": {},
   "source": [
    "- create empty vector"
   ]
  },
  {
   "cell_type": "code",
   "execution_count": null,
   "metadata": {
    "vscode": {
     "languageId": "rust"
    }
   },
   "outputs": [],
   "source": [
    "let v;String = vec![];"
   ]
  },
  {
   "cell_type": "markdown",
   "metadata": {},
   "source": [
    "- create vector without type  "
   ]
  },
  {
   "cell_type": "code",
   "execution_count": null,
   "metadata": {
    "vscode": {
     "languageId": "rust"
    }
   },
   "outputs": [],
   "source": [
    "let v = vec![1, 2, 3];\n",
    "println!(\"{:?}\",v);"
   ]
  },
  {
   "cell_type": "markdown",
   "metadata": {},
   "source": [
    "- Creating a Vector using Vec::new()"
   ]
  },
  {
   "cell_type": "code",
   "execution_count": null,
   "metadata": {
    "vscode": {
     "languageId": "rust"
    }
   },
   "outputs": [],
   "source": [
    "fn vector_create_using_new() {\n",
    "    // vector creation with Vec::new() method\n",
    "    let mut v: Vec<i32> = Vec::new();\n",
    "\n",
    "\n",
    "    // push values to a mutable vector\n",
    "    v.push(10);\n",
    "    v.push(20);\n",
    "\n",
    "    println!(\"v = {:?}\", v);\n",
    "}"
   ]
  },
  {
   "cell_type": "code",
   "execution_count": null,
   "metadata": {
    "vscode": {
     "languageId": "rust"
    }
   },
   "outputs": [],
   "source": [
    "vector_create_using_new();"
   ]
  },
  {
   "cell_type": "markdown",
   "metadata": {},
   "source": [
    "- create a vector of u8"
   ]
  },
  {
   "cell_type": "code",
   "execution_count": null,
   "metadata": {
    "vscode": {
     "languageId": "rust"
    }
   },
   "outputs": [],
   "source": [
    "let v: Vec<u8> = vec![1, 2, 3];\n",
    "println!(\"{:?}\",v);"
   ]
  },
  {
   "cell_type": "markdown",
   "metadata": {},
   "source": [
    "  Accessing Elements of a Vector in Rust"
   ]
  },
  {
   "cell_type": "code",
   "execution_count": null,
   "metadata": {
    "vscode": {
     "languageId": "rust"
    }
   },
   "outputs": [],
   "source": [
    "let colors = vec![\"blue\", \"red\", \"green\"];\n",
    "    \n",
    "// method 1: access vector elements using vector index\n",
    "println!(\"first color = {}\", colors[0]);\n",
    "println!(\"second color = {}\", colors[1]);\n",
    "println!(\"third color = {}\", colors[2]);"
   ]
  },
  {
   "cell_type": "markdown",
   "metadata": {},
   "source": [
    "# Accessing Elements of a Vector using the get() method in Rust"
   ]
  },
  {
   "cell_type": "code",
   "execution_count": null,
   "metadata": {
    "vscode": {
     "languageId": "rust"
    }
   },
   "outputs": [],
   "source": [
    "\n",
    "println!(\"first color = {}\", colors[0]);\n",
    "println!(\"first color = {:?}\", colors.get(0)) //Attention get a Option"
   ]
  },
  {
   "cell_type": "markdown",
   "metadata": {},
   "source": [
    "# Handle option value and not found"
   ]
  },
  {
   "cell_type": "markdown",
   "metadata": {},
   "source": [
    "[Option & Result see here](https://www.programiz.com/rust/unwrap-and-expect)"
   ]
  },
  {
   "cell_type": "code",
   "execution_count": null,
   "metadata": {
    "vscode": {
     "languageId": "rust"
    }
   },
   "outputs": [],
   "source": [
    "fn vector_get_option_found() {\n",
    "    //vector\n",
    "    let colors = vec![\"blue\", \"red\", \"green\"];\n",
    "    // returns an Option\n",
    "    let user_option = colors.get(0);\n",
    "\n",
    "    // use of match expression to get the result out of Option\n",
    "    let result = match user_option {\n",
    "        Some(color) => color,\n",
    "        None => \"not found!\",\n",
    "    };\n",
    "\n",
    "    // print the result\n",
    "    println!(\"color = {:?}\", result);\n",
    "}\n"
   ]
  },
  {
   "cell_type": "code",
   "execution_count": null,
   "metadata": {
    "vscode": {
     "languageId": "rust"
    }
   },
   "outputs": [],
   "source": [
    "vector_get_option_found();\n"
   ]
  },
  {
   "cell_type": "code",
   "execution_count": null,
   "metadata": {
    "vscode": {
     "languageId": "rust"
    }
   },
   "outputs": [],
   "source": [
    "fn vector_get_option_not_found() {\n",
    "    //vector\n",
    "    let colors = vec![\"blue\", \"red\", \"green\"];\n",
    "    // returns an Option\n",
    "    let user_option = colors.get(99);\n",
    "\n",
    "    // use of match expression to get the result out of Option\n",
    "    let result = match user_option {\n",
    "        Some(color) => color,\n",
    "        None => \"not found!\",\n",
    "    };\n",
    "\n",
    "    // print the result\n",
    "    println!(\"user = {:?}\", result);\n",
    "}"
   ]
  },
  {
   "cell_type": "code",
   "execution_count": null,
   "metadata": {
    "vscode": {
     "languageId": "rust"
    }
   },
   "outputs": [],
   "source": [
    "vector_get_option_not_found();"
   ]
  },
  {
   "cell_type": "markdown",
   "metadata": {},
   "source": [
    "# Adding Values to a Vector in Rust -> push"
   ]
  },
  {
   "cell_type": "code",
   "execution_count": null,
   "metadata": {
    "vscode": {
     "languageId": "rust"
    }
   },
   "outputs": [],
   "source": [
    "fn vector_push() {\n",
    "    let mut even_numbers = vec![2, 4, 6, 8, 10];\n",
    "\n",
    "    \n",
    "    println!(\"original vector = {:?}\", even_numbers);\n",
    "    \n",
    "    // push values at the end of the vector\n",
    "    even_numbers.push(12);\n",
    "    even_numbers.push(14);\n",
    "\n",
    "    \n",
    "    println!(\"changed vector with added values = {:?}\", even_numbers);\n",
    "}"
   ]
  },
  {
   "cell_type": "code",
   "execution_count": null,
   "metadata": {
    "vscode": {
     "languageId": "rust"
    }
   },
   "outputs": [],
   "source": [
    "vector_push();"
   ]
  },
  {
   "cell_type": "markdown",
   "metadata": {},
   "source": [
    "# Removing Values from a Vector in Rust -> remove"
   ]
  },
  {
   "cell_type": "code",
   "execution_count": null,
   "metadata": {
    "vscode": {
     "languageId": "rust"
    }
   },
   "outputs": [],
   "source": [
    "fn remove_value() {\n",
    "    let mut even_numbers = vec![2, 4, 6, 8, 10];\n",
    "    \n",
    "    println!(\"original vector =                          = {:?}\", even_numbers);\n",
    "    \n",
    "    // remove value from the vector in its second index\n",
    "    even_numbers.remove(2);\n",
    "    //dosen`t work\n",
    "    //even_numbers.remove(-1);\n",
    "\n",
    "    \n",
    "    println!(\"changed vector remove the third value -> 6 = {:?}\", even_numbers);\n",
    "}"
   ]
  },
  {
   "cell_type": "code",
   "execution_count": null,
   "metadata": {
    "vscode": {
     "languageId": "rust"
    }
   },
   "outputs": [],
   "source": [
    "remove_value();"
   ]
  },
  {
   "cell_type": "markdown",
   "metadata": {},
   "source": [
    "# Looping through a Vector in Rust -> for"
   ]
  },
  {
   "cell_type": "code",
   "execution_count": null,
   "metadata": {
    "vscode": {
     "languageId": "rust"
    }
   },
   "outputs": [],
   "source": [
    "fn vector_loop_for() {\n",
    "    let colors = vec![\"blue\", \"red\", \"green\"];\n",
    "    \n",
    "    // loop through a vector to print its index and value\n",
    "    for index in 0..3 {\n",
    "        println!(\"Index: {} -- Value: {}\", index, colors[index]);\n",
    "        \n",
    "    }\n",
    "}"
   ]
  },
  {
   "cell_type": "code",
   "execution_count": null,
   "metadata": {
    "vscode": {
     "languageId": "rust"
    }
   },
   "outputs": [],
   "source": [
    "vector_loop_for();"
   ]
  },
  {
   "cell_type": "markdown",
   "metadata": {},
   "source": [
    "# FROM HERE\n",
    "https://play.rust-lang.org/?version=stable&mode=debug&edition=2021&gist=04041719cefcdd2cc0c004193a980429"
   ]
  },
  {
   "cell_type": "markdown",
   "metadata": {},
   "source": [
    "# iter through a empty vector"
   ]
  },
  {
   "cell_type": "code",
   "execution_count": null,
   "metadata": {
    "vscode": {
     "languageId": "rust"
    }
   },
   "outputs": [],
   "source": [
    "const N: usize = 10;\n",
    "\n",
    "    let mut v = Vec::with_capacity(N);\n",
    "    for (i, item) in v.spare_capacity_mut().iter_mut().enumerate() {\n",
    "        item.write(i);\n",
    "    }\n",
    "    // SAFETY: All elements were initialized.\n",
    "    unsafe {\n",
    "        v.set_len(N);\n",
    "    }\n",
    "\n",
    "    dbg!(&v);"
   ]
  },
  {
   "cell_type": "markdown",
   "metadata": {},
   "source": [
    "# pass vec and return to fn"
   ]
  },
  {
   "cell_type": "code",
   "execution_count": null,
   "metadata": {
    "vscode": {
     "languageId": "rust"
    }
   },
   "outputs": [],
   "source": [
    "fn vecprinter(v1: &mut Vec<u32>) -> &mut Vec<u32> {\n",
    "    v1\n",
    "}\n",
    "\n",
    "fn vec_to_fn(){\n",
    "\n",
    "  let mut v1:Vec<u32>=vec![1,10,11,12,13];\n",
    "  \n",
    "  println!(\"{:?}\", vecprinter(&mut v1));\n",
    "}"
   ]
  },
  {
   "cell_type": "code",
   "execution_count": null,
   "metadata": {
    "vscode": {
     "languageId": "rust"
    }
   },
   "outputs": [],
   "source": [
    "vec_to_fn();"
   ]
  },
  {
   "cell_type": "markdown",
   "metadata": {},
   "source": [
    "# modified inside function -> u8"
   ]
  },
  {
   "cell_type": "code",
   "execution_count": null,
   "metadata": {
    "vscode": {
     "languageId": "rust"
    }
   },
   "outputs": [],
   "source": [
    "fn vecprinter(v1: &mut Vec<u32>) -> &mut Vec<u32> {\n",
    "    v1.push(6);\n",
    "    v1\n",
    "}\n",
    "\n",
    "fn modified_inside_fn(){\n",
    "\n",
    "  let mut v1:Vec<u32>=vec![1,2,3,4,5];\n",
    "  println!(\"Before {:?}\", v1);\n",
    "  \n",
    "  println!(\"Return from modified inside fn{:?}\", vecprinter(&mut v1));\n",
    "}"
   ]
  },
  {
   "cell_type": "code",
   "execution_count": null,
   "metadata": {
    "vscode": {
     "languageId": "rust"
    }
   },
   "outputs": [],
   "source": [
    "modified_inside_fn();"
   ]
  },
  {
   "cell_type": "markdown",
   "metadata": {},
   "source": [
    "# vector loop inside fn -> Vec<u8>"
   ]
  },
  {
   "cell_type": "code",
   "execution_count": null,
   "metadata": {
    "vscode": {
     "languageId": "rust"
    }
   },
   "outputs": [],
   "source": [
    "fn vec_loop(v1: &mut Vec<u8>) {\n",
    "    for value in v1 {\n",
    "        println!(\"{:?}\", value);\n",
    "    }\n",
    "}\n",
    "\n",
    "fn vector_loop_inside_fn(){\n",
    "\n",
    "    let mut v1:Vec<u8>=vec![1,2,3,4,5];\n",
    "    vec_loop(&mut v1);\n",
    "}\n"
   ]
  },
  {
   "cell_type": "code",
   "execution_count": null,
   "metadata": {
    "vscode": {
     "languageId": "rust"
    }
   },
   "outputs": [],
   "source": [
    "vector_loop_inside_fn();"
   ]
  },
  {
   "cell_type": "markdown",
   "metadata": {},
   "source": [
    "# vector loop over string inside fn -> Vec<STring>"
   ]
  },
  {
   "cell_type": "code",
   "execution_count": null,
   "metadata": {
    "vscode": {
     "languageId": "rust"
    }
   },
   "outputs": [],
   "source": [
    "fn vec_loop_over_str(v1: Vec<&str> )-> () {\n",
    "    for value in v1 {\n",
    "        println!(\"{:?}\", value);\n",
    "    }\n",
    "}\n",
    "\n",
    "fn vector_loop_inside_fn() {\n",
    "    let mut v1: Vec<str> = vec![\"one\", \"two\", \"three\"];\n",
    "    vec_loop_over_str(&mut v1);\n",
    "}\n"
   ]
  },
  {
   "cell_type": "code",
   "execution_count": null,
   "metadata": {
    "vscode": {
     "languageId": "rust"
    }
   },
   "outputs": [],
   "source": [
    "vector_loop_inside_fn();"
   ]
  },
  {
   "cell_type": "code",
   "execution_count": null,
   "metadata": {
    "vscode": {
     "languageId": "rust"
    }
   },
   "outputs": [],
   "source": [
    "fn read_slice(slice: &[usize]) {\n",
    "    println!(\":{:?}\",slice);\n",
    "}\n",
    "\n",
    "let v = vec![0, 1];\n",
    "read_slice(&v);"
   ]
  },
  {
   "cell_type": "markdown",
   "metadata": {},
   "source": [
    "# save\n",
    "https://users.rust-lang.org/t/passing-a-mutable-versus-pass-and-return-vec-string/53867"
   ]
  },
  {
   "cell_type": "markdown",
   "metadata": {},
   "source": [
    "[FROM HERE](https://stackoverflow.com/questions/47353421/vector-of-strings-reports-the-error-str-does-not-have-a-constant-size-known-at)"
   ]
  },
  {
   "cell_type": "code",
   "execution_count": 46,
   "metadata": {
    "vscode": {
     "languageId": "rust"
    }
   },
   "outputs": [],
   "source": [
    "fn print_multidimensional_array(multi: &[Vec<&str>]) {\n",
    "    for y in multi {\n",
    "        for v in y {\n",
    "            print!(\"{} \", v);\n",
    "        }\n",
    "        println!();\n",
    "    }\n",
    "}\n",
    "\n",
    "fn multidimensional_array() {\n",
    "    let v = vec![vec![\"a\", \"b\"], vec![\"c\", \"d\"]];\n",
    "    print_multidimensional_array(&v);\n",
    "}"
   ]
  },
  {
   "cell_type": "code",
   "execution_count": 47,
   "metadata": {
    "vscode": {
     "languageId": "rust"
    }
   },
   "outputs": [
    {
     "name": "stdout",
     "output_type": "stream",
     "text": [
      "a b \n"
     ]
    },
    {
     "name": "stdout",
     "output_type": "stream",
     "text": [
      "c d \n"
     ]
    }
   ],
   "source": [
    "multidimensional_array();"
   ]
  }
 ],
 "metadata": {
  "kernelspec": {
   "display_name": "Rust",
   "language": "rust",
   "name": "rust"
  },
  "language_info": {
   "codemirror_mode": "rust",
   "file_extension": ".rs",
   "mimetype": "text/rust",
   "name": "Rust",
   "pygment_lexer": "rust",
   "version": ""
  },
  "orig_nbformat": 4
 },
 "nbformat": 4,
 "nbformat_minor": 2
}
