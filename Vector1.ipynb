{
 "cells": [
  {
   "cell_type": "markdown",
   "metadata": {},
   "source": [
    "# RUST Vector\n",
    "- [ ] create empty vector with type\n",
    "- [ ] create a vector of u32\n",
    "- [ ] create a vector of string\n",
    "- [ ] print vec\n",
    "- [ ] push value to vec\n",
    "- [ ] pop value from vec\n",
    "- [ ] merge two vec\n",
    "- [ ] loop through vector\n",
    "- [ ]   - pass vec to fn\n",
    "- [ ] return vec from fn"
   ]
  },
  {
   "cell_type": "markdown",
   "metadata": {},
   "source": [
    "- [x] #739\n",
    "- [ ] https://github.com/octo-org/octo-repo/issues/740\n",
    "- [ ] Add delight to the experience when all tasks are complete :tada:"
   ]
  },
  {
   "cell_type": "markdown",
   "metadata": {},
   "source": [
    "# [create empty vector with type]()"
   ]
  },
  {
   "cell_type": "code",
   "execution_count": null,
   "metadata": {},
   "outputs": [],
   "source": []
  }
 ],
 "metadata": {
  "language_info": {
   "name": "python"
  },
  "orig_nbformat": 4
 },
 "nbformat": 4,
 "nbformat_minor": 2
}
