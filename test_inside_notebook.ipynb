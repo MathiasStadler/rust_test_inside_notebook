{
 "cells": [
  {
   "cell_type": "markdown",
   "metadata": {},
   "source": [
    "# Test (rust) inside notebook, run test inside the /temp folder of the notebook "
   ]
  },
  {
   "cell_type": "markdown",
   "metadata": {},
   "source": [
    "## first example => parts of shell command ls -l -> for check of the correct command"
   ]
  },
  {
   "cell_type": "markdown",
   "metadata": {},
   "source": [
    "- working directory"
   ]
  },
  {
   "cell_type": "code",
   "execution_count": null,
   "metadata": {
    "vscode": {
     "languageId": "rust"
    }
   },
   "outputs": [],
   "source": [
    ":last_compile_dir"
   ]
  },
  {
   "cell_type": "markdown",
   "metadata": {},
   "source": [
    "- code"
   ]
  },
  {
   "cell_type": "code",
   "execution_count": null,
   "metadata": {
    "vscode": {
     "languageId": "rust"
    }
   },
   "outputs": [],
   "source": [
    "use std::process::Command;\n",
    "\n",
    "fn main() {\n",
    "    let mut command = Command::new(\"ls\");\n",
    "    command.arg(\"-l\");\n",
    "    let command_string: String = std::format!(\"{:?}\", command);\n",
    "\n",
    "    // Print the command_string to standard output\n",
    "    println!(\"cmd: {}\", command_string);\n",
    "\n",
    "    // split the command string accordinig to whitespace\n",
    "    let command_parts = command_string.split(' ');\n",
    "\n",
    "    // print the individual parts of the command_string\n",
    "    for (index, part) in command_parts.enumerate() {\n",
    "        println!(\"part[{}]: {}\", index, part);\n",
    "    }\n",
    "}\n"
   ]
  },
  {
   "cell_type": "code",
   "execution_count": null,
   "metadata": {
    "vscode": {
     "languageId": "rust"
    }
   },
   "outputs": [],
   "source": [
    "main();"
   ]
  },
  {
   "cell_type": "markdown",
   "metadata": {},
   "source": [
    "# execute command inside shell"
   ]
  },
  {
   "cell_type": "code",
   "execution_count": null,
   "metadata": {
    "vscode": {
     "languageId": "rust"
    }
   },
   "outputs": [],
   "source": [
    "use std::process::Command;\n",
    "\n",
    "fn main_execute_cmd(){\n",
    "let mut list_dir = Command::new(\"ls\");\n",
    "list_dir.arg(\"-l\");\n",
    "\n",
    "\n",
    "\n",
    "// Execute `ls` in the current directory of the program.\n",
    "list_dir.status().expect(\"process failed to execute\");\n",
    "\n",
    "println!();\n",
    "\n",
    "// Change `ls` to execute in the root directory.\n",
    "list_dir.current_dir(\"./\");\n",
    "\n",
    "// And then execute `ls` again but in the root directory.\n",
    "list_dir.status().expect(\"process failed to execute\");\n",
    "}"
   ]
  },
  {
   "cell_type": "code",
   "execution_count": null,
   "metadata": {
    "vscode": {
     "languageId": "rust"
    }
   },
   "outputs": [],
   "source": [
    "main_execute_cmd();"
   ]
  },
  {
   "cell_type": "markdown",
   "metadata": {},
   "source": [
    "# same cmd in another directory"
   ]
  },
  {
   "cell_type": "code",
   "execution_count": null,
   "metadata": {
    "vscode": {
     "languageId": "rust"
    }
   },
   "outputs": [],
   "source": [
    "use std::process::Command;\n",
    "\n",
    "fn main_change_dir(){\n",
    "let mut list_dir = Command::new(\"ls\");\n",
    "list_dir.arg(\"-l\");\n",
    "\n",
    "// Change `ls` to execute in the root directory.\n",
    "// HERE change we are the directory\n",
    "list_dir.current_dir(\"src\");\n",
    "\n",
    "// Execute `ls` in the current directory of the program.\n",
    "list_dir.status().expect(\"process failed to execute\");\n",
    "\n",
    "println!();\n",
    "\n",
    "// Change `ls` to execute in the root directory.\n",
    "// HERE change we are the directory\n",
    "list_dir.current_dir(\"/tmp\");\n",
    "\n",
    "// And then execute `ls` again but in the root directory.\n",
    "list_dir.status().expect(\"process failed to execute\");\n",
    "}"
   ]
  },
  {
   "cell_type": "code",
   "execution_count": null,
   "metadata": {
    "vscode": {
     "languageId": "rust"
    }
   },
   "outputs": [],
   "source": [
    "main_change_dir();"
   ]
  },
  {
   "cell_type": "markdown",
   "metadata": {},
   "source": [
    "# get env variable evcr notebook e.g. user\n",
    "\n",
    "- [in python](https://ericmjl.github.io/blog/2021/5/14/set-environment-variables-inside-a-jupyter-notebook/)\n",
    "- [in rust](https://www.thorsten-hans.com/working-with-environment-variables-in-rust/)"
   ]
  },
  {
   "cell_type": "code",
   "execution_count": null,
   "metadata": {
    "vscode": {
     "languageId": "rust"
    }
   },
   "outputs": [],
   "source": [
    "use std::env;\n",
    "\n",
    "fn main_user() {\n",
    "    let u = match env::var_os(\"USER\") {\n",
    "        Some(v) => v.into_string().unwrap(),\n",
    "        None => panic!(\"$USER is not set\")\n",
    "    };\n",
    "    println!(\"Got username: {}\", u);\n",
    "}"
   ]
  },
  {
   "cell_type": "markdown",
   "metadata": {},
   "source": []
  },
  {
   "cell_type": "code",
   "execution_count": 24,
   "metadata": {
    "vscode": {
     "languageId": "rust"
    }
   },
   "outputs": [],
   "source": [
    "use std::env;\n",
    "fn main_set_env() {\n",
    "    let key = \"KEY\";\n",
    "    env::set_var(key, \"VALUE\");\n",
    "    assert_eq!(env::var(key), Ok(\"VALUE\".to_string()));\n",
    "}\n"
   ]
  },
  {
   "cell_type": "code",
   "execution_count": 25,
   "metadata": {
    "vscode": {
     "languageId": "rust"
    }
   },
   "outputs": [],
   "source": [
    "main_set_env();"
   ]
  },
  {
   "cell_type": "code",
   "execution_count": 27,
   "metadata": {
    "vscode": {
     "languageId": "rust"
    }
   },
   "outputs": [],
   "source": [
    "use std::env;\n",
    "\n",
    "fn main_get_env() {\n",
    "    let u = match env::var_os(\"KEY\") {\n",
    "        Some(v) => v.into_string().unwrap(),\n",
    "        None => panic!(\"$USER is not set\")\n",
    "    };\n",
    "    println!(\"Got value of KEY: {}\", u);\n",
    "}"
   ]
  },
  {
   "cell_type": "code",
   "execution_count": 28,
   "metadata": {
    "vscode": {
     "languageId": "rust"
    }
   },
   "outputs": [
    {
     "name": "stdout",
     "output_type": "stream",
     "text": [
      "Got value of KEY: VALUE\n"
     ]
    }
   ],
   "source": [
    "main_get_env();"
   ]
  }
 ],
 "metadata": {
  "kernelspec": {
   "display_name": "Rust",
   "language": "rust",
   "name": "rust"
  },
  "language_info": {
   "codemirror_mode": "rust",
   "file_extension": ".rs",
   "mimetype": "text/rust",
   "name": "Rust",
   "pygment_lexer": "rust",
   "version": ""
  },
  "orig_nbformat": 4
 },
 "nbformat": 4,
 "nbformat_minor": 2
}
