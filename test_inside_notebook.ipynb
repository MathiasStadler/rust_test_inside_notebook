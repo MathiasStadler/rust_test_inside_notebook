{
 "cells": [
  {
   "cell_type": "markdown",
   "metadata": {},
   "source": [
    "# Test (rust) inside notebook, run test inside the /temp folder of the notebook "
   ]
  },
  {
   "cell_type": "markdown",
   "metadata": {},
   "source": [
    "## first example => parts of shell command ls -l -> for check of the correct command"
   ]
  },
  {
   "cell_type": "markdown",
   "metadata": {},
   "source": [
    "- working directory"
   ]
  },
  {
   "cell_type": "code",
   "execution_count": 17,
   "metadata": {},
   "outputs": [
    {
     "data": {
      "text/plain": [
       "\"/tmp/.tmpC6OqfJ\"\n"
      ]
     },
     "execution_count": 17,
     "metadata": {},
     "output_type": "execute_result"
    }
   ],
   "source": [
    ":last_compile_dir"
   ]
  },
  {
   "cell_type": "markdown",
   "metadata": {},
   "source": [
    "- code"
   ]
  },
  {
   "cell_type": "code",
   "execution_count": null,
   "metadata": {},
   "outputs": [],
   "source": [
    "use std::process::Command;\n",
    "\n",
    "fn main() {\n",
    "    let mut command = Command::new(\"ls\");\n",
    "    command.arg(\"-l\");\n",
    "    let command_string: String = std::format!(\"{:?}\", command);\n",
    "\n",
    "    // Print the command_string to standard output\n",
    "    println!(\"cmd: {}\", command_string);\n",
    "\n",
    "    // split the command string accordinig to whitespace\n",
    "    let command_parts = command_string.split(' ');\n",
    "\n",
    "    // print the individual parts of the command_string\n",
    "    for (index, part) in command_parts.enumerate() {\n",
    "        println!(\"part[{}]: {}\", index, part);\n",
    "    }\n",
    "}\n"
   ]
  },
  {
   "cell_type": "code",
   "execution_count": null,
   "metadata": {},
   "outputs": [],
   "source": [
    "main();"
   ]
  },
  {
   "cell_type": "markdown",
   "metadata": {},
   "source": [
    "# execute command inside shell"
   ]
  },
  {
   "cell_type": "code",
   "execution_count": 11,
   "metadata": {},
   "outputs": [],
   "source": [
    "use std::process::Command;\n",
    "\n",
    "fn main_execute_cmd(){\n",
    "let mut list_dir = Command::new(\"ls\");\n",
    "list_dir.arg(\"-l\");\n",
    "\n",
    "\n",
    "\n",
    "// Execute `ls` in the current directory of the program.\n",
    "list_dir.status().expect(\"process failed to execute\");\n",
    "\n",
    "println!();\n",
    "\n",
    "// Change `ls` to execute in the root directory.\n",
    "list_dir.current_dir(\"./\");\n",
    "\n",
    "// And then execute `ls` again but in the root directory.\n",
    "list_dir.status().expect(\"process failed to execute\");\n",
    "}"
   ]
  },
  {
   "cell_type": "code",
   "execution_count": null,
   "metadata": {},
   "outputs": [],
   "source": [
    "main_execute_cmd();"
   ]
  },
  {
   "cell_type": "markdown",
   "metadata": {},
   "source": [
    "# same cmd in another directory"
   ]
  },
  {
   "cell_type": "code",
   "execution_count": 20,
   "metadata": {},
   "outputs": [],
   "source": [
    "use std::process::Command;\n",
    "\n",
    "fn main_change_dir(){\n",
    "let mut list_dir = Command::new(\"ls\");\n",
    "list_dir.arg(\"-l\");\n",
    "\n",
    "// Change `ls` to execute in the root directory.\n",
    "// HERE change we are the directory\n",
    "list_dir.current_dir(\"src\");\n",
    "\n",
    "// Execute `ls` in the current directory of the program.\n",
    "list_dir.status().expect(\"process failed to execute\");\n",
    "\n",
    "println!();\n",
    "\n",
    "// Change `ls` to execute in the root directory.\n",
    "// HERE change we are the directory\n",
    "list_dir.current_dir(\"/tmp\");\n",
    "\n",
    "// And then execute `ls` again but in the root directory.\n",
    "list_dir.status().expect(\"process failed to execute\");\n",
    "}"
   ]
  },
  {
   "cell_type": "code",
   "execution_count": 21,
   "metadata": {},
   "outputs": [
    {
     "name": "stdout",
     "output_type": "stream",
     "text": [
      "insgesamt 4\n",
      "-rw-rw-r-- 1 trapapa trapapa 45 Sep  4 08:11 main.rs\n",
      "\n",
      "insgesamt 64\n",
      "drwx------ 6 root    root    4096 Sep  4 08:12 snap-private-tmp\n",
      "drwx------ 3 root    root    4096 Sep  4 08:08 systemd-private-0ae882fb9f014e3ba6f9657dcfb7bef6-apache2.service-Kno1dg\n",
      "drwx------ 3 root    root    4096 Sep  4 08:08 systemd-private-0ae882fb9f014e3ba6f9657dcfb7bef6-bluetooth.service-AODvxt\n",
      "drwx------ 3 root    root    4096 Sep  4 08:08 systemd-private-0ae882fb9f014e3ba6f9657dcfb7bef6-colord.service-w38j2T\n",
      "drwx------ 3 root    root    4096 Sep  4 08:08 systemd-private-0ae882fb9f014e3ba6f9657dcfb7bef6-fwupd.service-0OiHtM\n",
      "drwx------ 3 root    root    4096 Sep  4 08:08 systemd-private-0ae882fb9f014e3ba6f9657dcfb7bef6-ModemManager.service-66gFaY\n",
      "drwx------ 3 root    root    4096 Sep  4 08:08 systemd-private-0ae882fb9f014e3ba6f9657dcfb7bef6-power-profiles-daemon.service-52BvXL\n",
      "drwx------ 3 root    root    4096 Sep  4 08:08 systemd-private-0ae882fb9f014e3ba6f9657dcfb7bef6-switcheroo-control.service-F076l0\n",
      "drwx------ 3 root    root    4096 Sep  4 08:08 systemd-private-0ae882fb9f014e3ba6f9657dcfb7bef6-systemd-logind.service-WZG4XJ\n",
      "drwx------ 3 root    root    4096 Sep  4 08:08 systemd-private-0ae882fb9f014e3ba6f9657dcfb7bef6-systemd-resolved.service-ciRY9C\n",
      "drwx------ 3 root    root    4096 Sep  4 08:08 systemd-private-0ae882fb9f014e3ba6f9657dcfb7bef6-systemd-timesyncd.service-Z9yFCT\n",
      "drwx------ 3 root    root    4096 Sep  4 08:08 systemd-private-0ae882fb9f014e3ba6f9657dcfb7bef6-upower.service-568A7T\n",
      "-rw------- 1 trapapa trapapa  784 Sep  4 08:16 tmp3u40gzth.html\n",
      "-rw------- 1 trapapa trapapa  784 Sep  4 08:17 tmpefihsssr.html\n",
      "drwx------ 2 trapapa trapapa 4096 Sep  4 08:08 tracker-extract-3-files.1000\n",
      "drwx------ 2 gdm     gdm     4096 Sep  4 08:08 tracker-extract-3-files.125\n"
     ]
    }
   ],
   "source": [
    "main_change_dir();"
   ]
  }
 ],
 "metadata": {
  "kernelspec": {
   "display_name": "Rust",
   "language": "rust",
   "name": "rust"
  },
  "language_info": {
   "codemirror_mode": "rust",
   "file_extension": ".rs",
   "mimetype": "text/rust",
   "name": "rust",
   "pygment_lexer": "rust",
   "version": ""
  },
  "orig_nbformat": 4
 },
 "nbformat": 4,
 "nbformat_minor": 2
}
