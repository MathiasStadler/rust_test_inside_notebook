{
 "cells": [
  {
   "cell_type": "markdown",
   "metadata": {},
   "source": [
    "# Test (rust) inside notebook, run test inside the /temp folder of the notebook "
   ]
  },
  {
   "cell_type": "markdown",
   "metadata": {},
   "source": [
    "## first example => parts of shell command ls -l -> for check of the correct command"
   ]
  },
  {
   "cell_type": "markdown",
   "metadata": {},
   "source": [
    "- working directory"
   ]
  },
  {
   "cell_type": "code",
   "execution_count": 2,
   "metadata": {
    "vscode": {
     "languageId": "rust"
    }
   },
   "outputs": [
    {
     "data": {
      "text/plain": [
       "\"/tmp/.tmpC6OqfJ\"\n"
      ]
     },
     "execution_count": 2,
     "metadata": {},
     "output_type": "execute_result"
    }
   ],
   "source": [
    ":last_compile_dir"
   ]
  },
  {
   "cell_type": "markdown",
   "metadata": {},
   "source": [
    "- code"
   ]
  },
  {
   "cell_type": "code",
   "execution_count": 4,
   "metadata": {
    "vscode": {
     "languageId": "rust"
    }
   },
   "outputs": [],
   "source": [
    "use std::process::Command;\n",
    "\n",
    "fn main() {\n",
    "    let mut command = Command::new(\"ls\");\n",
    "    command.arg(\"-l\");\n",
    "    let command_string: String = std::format!(\"{:?}\", command);\n",
    "\n",
    "    // Print the command_string to standard output\n",
    "    println!(\"cmd: {}\", command_string);\n",
    "\n",
    "    // split the command string accordinig to whitespace\n",
    "    let command_parts = command_string.split(' ');\n",
    "\n",
    "    // print the individual parts of the command_string\n",
    "    for (index, part) in command_parts.enumerate() {\n",
    "        println!(\"part[{}]: {}\", index, part);\n",
    "    }\n",
    "}\n"
   ]
  },
  {
   "cell_type": "code",
   "execution_count": 5,
   "metadata": {
    "vscode": {
     "languageId": "rust"
    }
   },
   "outputs": [
    {
     "name": "stdout",
     "output_type": "stream",
     "text": [
      "cmd: \"ls\" \"-l\"\n",
      "part[0]: \"ls\"\n",
      "part[1]: \"-l\"\n"
     ]
    }
   ],
   "source": [
    "main();"
   ]
  },
  {
   "cell_type": "markdown",
   "metadata": {},
   "source": [
    "# execute command inside shell"
   ]
  },
  {
   "cell_type": "code",
   "execution_count": 6,
   "metadata": {
    "vscode": {
     "languageId": "rust"
    }
   },
   "outputs": [
    {
     "name": "stdout",
     "output_type": "stream",
     "text": [
      "insgesamt 20\n",
      "-rw-rw-r-- 1 trapapa trapapa  169 Sep  4 08:19 Cargo.lock\n",
      "-rw-rw-r-- 1 trapapa trapapa  194 Sep  4 08:11 Cargo.toml\n",
      "drwxrwxr-x 2 trapapa trapapa 4096 Sep  4 08:11 src\n",
      "drwxrwxr-x 3 trapapa trapapa 4096 Sep  4 08:19 target\n",
      "-rw-rw-r-- 1 trapapa trapapa 2768 Sep  4 08:25 test_inside_notebook.ipynb\n",
      "\n",
      "insgesamt 20\n",
      "-rw-rw-r-- 1 trapapa trapapa  169 Sep  4 08:19 Cargo.lock\n",
      "-rw-rw-r-- 1 trapapa trapapa  194 Sep  4 08:11 Cargo.toml\n",
      "drwxrwxr-x 2 trapapa trapapa 4096 Sep  4 08:11 src\n",
      "drwxrwxr-x 3 trapapa trapapa 4096 Sep  4 08:19 target\n",
      "-rw-rw-r-- 1 trapapa trapapa 2768 Sep  4 08:25 test_inside_notebook.ipynb\n"
     ]
    }
   ],
   "source": [
    "use std::process::Command;\n",
    "\n",
    "let mut list_dir = Command::new(\"ls\");\n",
    "list_dir.arg(\"-l\");\n",
    "\n",
    "\n",
    "\n",
    "// Execute `ls` in the current directory of the program.\n",
    "list_dir.status().expect(\"process failed to execute\");\n",
    "\n",
    "println!();\n",
    "\n",
    "// Change `ls` to execute in the root directory.\n",
    "list_dir.current_dir(\"./\");\n",
    "\n",
    "// And then execute `ls` again but in the root directory.\n",
    "list_dir.status().expect(\"process failed to execute\");"
   ]
  }
 ],
 "metadata": {
  "kernelspec": {
   "display_name": "Rust",
   "language": "rust",
   "name": "rust"
  },
  "language_info": {
   "codemirror_mode": "rust",
   "file_extension": ".rs",
   "mimetype": "text/rust",
   "name": "Rust",
   "pygment_lexer": "rust",
   "version": ""
  },
  "orig_nbformat": 4
 },
 "nbformat": 4,
 "nbformat_minor": 2
}
