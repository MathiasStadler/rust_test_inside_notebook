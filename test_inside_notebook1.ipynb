{
 "cells": [
  {
   "cell_type": "markdown",
   "metadata": {},
   "source": [
    "# Test (rust) inside notebook, run test inside the /temp folder of the notebook "
   ]
  },
  {
   "cell_type": "markdown",
   "metadata": {},
   "source": [
    "## first example => parts of shell command ls -l -> for check of the correct command"
   ]
  },
  {
   "cell_type": "markdown",
   "metadata": {},
   "source": [
    "- working directory"
   ]
  },
  {
   "cell_type": "code",
   "execution_count": 4,
   "metadata": {
    "vscode": {
     "languageId": "rust"
    }
   },
   "outputs": [
    {
     "data": {
      "text/plain": [
       "\"/tmp/.tmpzfHuiV\"\n"
      ]
     },
     "execution_count": 4,
     "metadata": {},
     "output_type": "execute_result"
    }
   ],
   "source": [
    ":last_compile_dir -h"
   ]
  },
  {
   "cell_type": "markdown",
   "metadata": {},
   "source": [
    "- code"
   ]
  },
  {
   "cell_type": "code",
   "execution_count": null,
   "metadata": {
    "vscode": {
     "languageId": "rust"
    }
   },
   "outputs": [],
   "source": [
    "use std::process::Command;\n",
    "\n",
    "fn main() {\n",
    "    let mut command = Command::new(\"ls\");\n",
    "    command.arg(\"-l\");\n",
    "    let command_string: String = std::format!(\"{:?}\", command);\n",
    "\n",
    "    // Print the command_string to standard output\n",
    "    println!(\"cmd: {}\", command_string);\n",
    "\n",
    "    // split the command string accordinig to whitespace\n",
    "    let command_parts = command_string.split(' ');\n",
    "\n",
    "    // print the individual parts of the command_string\n",
    "    for (index, part) in command_parts.enumerate() {\n",
    "        println!(\"part[{}]: {}\", index, part);\n",
    "    }\n",
    "}\n"
   ]
  },
  {
   "cell_type": "code",
   "execution_count": null,
   "metadata": {
    "vscode": {
     "languageId": "rust"
    }
   },
   "outputs": [],
   "source": [
    "main();"
   ]
  },
  {
   "cell_type": "markdown",
   "metadata": {},
   "source": [
    "# execute command inside shell"
   ]
  },
  {
   "cell_type": "code",
   "execution_count": null,
   "metadata": {
    "vscode": {
     "languageId": "rust"
    }
   },
   "outputs": [],
   "source": [
    "use std::process::Command;\n",
    "\n",
    "fn main_execute_cmd(){\n",
    "let mut list_dir = Command::new(\"ls\");\n",
    "list_dir.arg(\"-l\");\n",
    "\n",
    "\n",
    "\n",
    "// Execute `ls` in the current directory of the program.\n",
    "list_dir.status().expect(\"process failed to execute\");\n",
    "\n",
    "println!();\n",
    "\n",
    "// Change `ls` to execute in the root directory.\n",
    "list_dir.current_dir(\"./\");\n",
    "\n",
    "// And then execute `ls` again but in the root directory.\n",
    "list_dir.status().expect(\"process failed to execute\");\n",
    "}"
   ]
  },
  {
   "cell_type": "code",
   "execution_count": null,
   "metadata": {
    "vscode": {
     "languageId": "rust"
    }
   },
   "outputs": [],
   "source": [
    "main_execute_cmd();"
   ]
  },
  {
   "cell_type": "markdown",
   "metadata": {},
   "source": [
    "# same cmd in another directory"
   ]
  },
  {
   "cell_type": "code",
   "execution_count": null,
   "metadata": {
    "vscode": {
     "languageId": "rust"
    }
   },
   "outputs": [],
   "source": [
    "use std::process::Command;\n",
    "\n",
    "fn call_pwd(){\n",
    "let mut list_dir = Command::new(\"pwd\");\n",
    "//list_dir.arg(\"-l\");\n",
    "\n",
    "// Change `ls` to execute in the root directory.\n",
    "// HERE change we are the directory\n",
    "//list_dir.current_dir(\"src\");\n",
    "\n",
    "// Execute `ls` in the current directory of the program.\n",
    "list_dir.status().expect(\"process failed to execute\");\n",
    "\n",
    "println!();\n",
    "\n",
    "// Change `ls` to execute in the root directory.\n",
    "// HERE change we are the directory\n",
    "list_dir.current_dir(\"/tmp\");\n",
    "let mut list_dir = Command::new(\"pwd\");\n",
    "// And then execute `ls` again but in the root directory.\n",
    "list_dir.status().expect(\"process failed to execute\");\n",
    "}"
   ]
  },
  {
   "cell_type": "code",
   "execution_count": null,
   "metadata": {
    "vscode": {
     "languageId": "rust"
    }
   },
   "outputs": [],
   "source": [
    "call_pwd();"
   ]
  },
  {
   "cell_type": "markdown",
   "metadata": {},
   "source": [
    "# cmd set inside actual shell"
   ]
  },
  {
   "cell_type": "code",
   "execution_count": 11,
   "metadata": {
    "vscode": {
     "languageId": "rust"
    }
   },
   "outputs": [],
   "source": [
    "use std::process::Command;\n",
    "\n",
    "fn call_find() {\n",
    "    let mut cmd = Command::new(\"find\");\n",
    "    cmd.arg(\"/tmp\");\n",
    "    cmd.arg(\"-name\");\n",
    "    cmd.arg(\"\\\".*\\\"\");\n",
    "    cmd.arg(\"-user\");\n",
    "    cmd.arg(r\"trapapa\");\n",
    "    //get cmd as  string\n",
    "    let command_string: String = std::format!(\"{:?}\", cmd);\n",
    "\n",
    "    // Print the command_string to standard output\n",
    "    println!(\"cmd: {}\", command_string);\n",
    "\n",
    "    //list_dir.current_dir(\"src\");\n",
    "\n",
    "    // Execute command\n",
    "    cmd.status().expect(\"process failed to execute\");\n",
    "}\n"
   ]
  },
  {
   "cell_type": "code",
   "execution_count": 12,
   "metadata": {
    "vscode": {
     "languageId": "rust"
    }
   },
   "outputs": [
    {
     "name": "stdout",
     "output_type": "stream",
     "text": [
      "cmd: \"find\" \"/tmp\" \"-name\" \"\\\".*\\\"\" \"-user\" \"trapapa\"\n"
     ]
    },
    {
     "name": "stderr",
     "output_type": "stream",
     "text": [
      "find: ‘/tmp/systemd-private-75e4938206da45e8bf37cdba3d3d8581-upower.service-JX13a2’: Keine Berechtigung\n",
      "find: ‘/tmp/systemd-private-75e4938206da45e8bf37cdba3d3d8581-colord.service-KZ0AiQ’: Keine Berechtigung\n",
      "find: ‘/tmp/systemd-private-75e4938206da45e8bf37cdba3d3d8581-fwupd.service-wyDMkp’: Keine Berechtigung\n",
      "find: ‘/tmp/systemd-private-75e4938206da45e8bf37cdba3d3d8581-ModemManager.service-OxXIU2’: Keine Berechtigung\n",
      "find: ‘/tmp/snap-private-tmp’: Keine Berechtigung\n",
      "find: ‘/tmp/systemd-private-75e4938206da45e8bf37cdba3d3d8581-systemd-timesyncd.service-2eYkG5’: Keine Berechtigung\n",
      "find: ‘/tmp/systemd-private-75e4938206da45e8bf37cdba3d3d8581-systemd-logind.service-H0NaaF’: Keine Berechtigung\n",
      "find: ‘/tmp/systemd-private-75e4938206da45e8bf37cdba3d3d8581-bluetooth.service-d6eAna’: Keine Berechtigung\n",
      "find: ‘/tmp/tracker-extract-3-files.125’: Keine Berechtigung\n",
      "find: ‘/tmp/systemd-private-75e4938206da45e8bf37cdba3d3d8581-power-profiles-daemon.service-rNn4qr’: Keine Berechtigung\n",
      "find: ‘/tmp/systemd-private-75e4938206da45e8bf37cdba3d3d8581-switcheroo-control.service-jE3p8H’: Keine Berechtigung\n",
      "find: ‘/tmp/systemd-private-75e4938206da45e8bf37cdba3d3d8581-systemd-resolved.service-RJK2J4’: Keine Berechtigung\n",
      "find: ‘/tmp/systemd-private-75e4938206da45e8bf37cdba3d3d8581-apache2.service-99WpZ2’: Keine Berechtigung\n"
     ]
    }
   ],
   "source": [
    "call_find();"
   ]
  },
  {
   "cell_type": "markdown",
   "metadata": {},
   "source": [
    "# get env variable evcr notebook e.g. user\n",
    "\n",
    "- [in python](https://ericmjl.github.io/blog/2021/5/14/set-environment-variables-inside-a-jupyter-notebook/)\n",
    "- [in rust](https://www.thorsten-hans.com/working-with-environment-variables-in-rust/)"
   ]
  },
  {
   "cell_type": "code",
   "execution_count": null,
   "metadata": {
    "vscode": {
     "languageId": "rust"
    }
   },
   "outputs": [],
   "source": [
    "use std::env;\n",
    "\n",
    "fn main_user() {\n",
    "    let u = match env::var_os(\"USER\") {\n",
    "        Some(v) => v.into_string().unwrap(),\n",
    "        None => panic!(\"$USER is not set\")\n",
    "    };\n",
    "    println!(\"Got username: {}\", u);\n",
    "}"
   ]
  },
  {
   "cell_type": "markdown",
   "metadata": {},
   "source": []
  },
  {
   "cell_type": "code",
   "execution_count": null,
   "metadata": {
    "vscode": {
     "languageId": "rust"
    }
   },
   "outputs": [],
   "source": [
    "use std::env;\n",
    "fn main_set_env() {\n",
    "    let key = \"KEY\";\n",
    "    env::set_var(key, \"VALUE\");\n",
    "    assert_eq!(env::var(key), Ok(\"VALUE\".to_string()));\n",
    "}\n"
   ]
  },
  {
   "cell_type": "code",
   "execution_count": null,
   "metadata": {
    "vscode": {
     "languageId": "rust"
    }
   },
   "outputs": [],
   "source": [
    "main_set_env();"
   ]
  },
  {
   "cell_type": "code",
   "execution_count": null,
   "metadata": {
    "vscode": {
     "languageId": "rust"
    }
   },
   "outputs": [],
   "source": [
    "use std::env;\n",
    "\n",
    "fn main_get_env() {\n",
    "    let u = match env::var_os(\"KEY\") {\n",
    "        Some(v) => v.into_string().unwrap(),\n",
    "        None => panic!(\"$USER is not set\")\n",
    "    };\n",
    "    println!(\"Got value of KEY: {}\", u);\n",
    "}"
   ]
  },
  {
   "cell_type": "code",
   "execution_count": null,
   "metadata": {
    "vscode": {
     "languageId": "rust"
    }
   },
   "outputs": [],
   "source": [
    "main_get_env();"
   ]
  },
  {
   "cell_type": "markdown",
   "metadata": {},
   "source": [
    "# get PWD"
   ]
  },
  {
   "cell_type": "code",
   "execution_count": null,
   "metadata": {
    "vscode": {
     "languageId": "rust"
    }
   },
   "outputs": [],
   "source": [
    "use std::env;\n",
    "\n",
    "fn main_get_env_pwd() {\n",
    "    let u = match env::var_os(\"PWD\") {\n",
    "        Some(v) => v.into_string().unwrap(),\n",
    "        None => panic!(\"$USER is not set\")\n",
    "    };\n",
    "    println!(\"Got value of KEY: {}\", u);\n",
    "}"
   ]
  },
  {
   "cell_type": "code",
   "execution_count": null,
   "metadata": {
    "vscode": {
     "languageId": "rust"
    }
   },
   "outputs": [],
   "source": [
    "main_get_env_pwd();"
   ]
  },
  {
   "cell_type": "markdown",
   "metadata": {},
   "source": [
    "# use  notebook vars inside code block"
   ]
  },
  {
   "cell_type": "code",
   "execution_count": 13,
   "metadata": {
    "vscode": {
     "languageId": "rust"
    }
   },
   "outputs": [],
   "source": [
    "fn main_use_vars(){\n",
    "\n",
    "    println!(\"use vars :{{last_compile_dir}}\");\n",
    "}"
   ]
  },
  {
   "cell_type": "code",
   "execution_count": 14,
   "metadata": {
    "vscode": {
     "languageId": "rust"
    }
   },
   "outputs": [
    {
     "name": "stdout",
     "output_type": "stream",
     "text": [
      "use vars :{last_compile_dir}\n"
     ]
    }
   ],
   "source": [
    "main_use_vars();"
   ]
  },
  {
   "cell_type": "code",
   "execution_count": null,
   "metadata": {
    "vscode": {
     "languageId": "rust"
    }
   },
   "outputs": [],
   "source": [
    "//:set CARGO_REGISTRY_DEFAULT=USTC\n",
    ":source registry = \"https://example.com\""
   ]
  },
  {
   "cell_type": "markdown",
   "metadata": {},
   "source": [
    "- [FROM HERE](https://play.rust-lang.org/?version=stable&mode=debug&edition=2018&gist=f525b0348c7b7939c520b23f833641b3)\n",
    "- [FROM HERE 2](https://stackoverflow.com/questions/69540812/how-to-return-current-working-directory-from-function)"
   ]
  },
  {
   "cell_type": "code",
   "execution_count": 16,
   "metadata": {
    "vscode": {
     "languageId": "rust"
    }
   },
   "outputs": [],
   "source": [
    ":dep regex"
   ]
  },
  {
   "cell_type": "code",
   "execution_count": 17,
   "metadata": {
    "vscode": {
     "languageId": "rust"
    }
   },
   "outputs": [],
   "source": [
    "use std::path::PathBuf;\n",
    "use std::fs;\n",
    "use std::env;\n",
    "// use serde_json;\n",
    "use regex::Regex;\n",
    "\n",
    "fn determinate_file_size(file: &str) -> u64 {\n",
    "    fs::metadata(file).unwrap().len()\n",
    "}\n",
    "\n",
    "fn determinate_is_it_file_or_dirctory(arg: &str) -> &str {\n",
    "    let file = \"File\";\n",
    "    let dir = \"Directory\";\n",
    "    let re = Regex::new(r\"/\").unwrap();\n",
    "    if re.is_match(arg) {\n",
    "        return dir;\n",
    "    }\n",
    "    return file;\n",
    "}\n",
    "\n",
    "fn collect_user_arguments() -> Vec<String> {\n",
    "    env::args().collect()\n",
    "}\n",
    "\n",
    "fn check_if_arguments_count_valid(args: &Vec<String>) -> bool {\n",
    "    if args.len() == 3 {\n",
    "        return true\n",
    "    }\n",
    "    help();\n",
    "    return false\n",
    "}\n",
    "\n",
    "fn get_current_working_dir() -> std::io::Result<PathBuf> {\n",
    "    env::current_exe()\n",
    "}\n",
    "\n",
    "fn help() {\n",
    "    println!(\"Examples:\");\n",
    "    println!(\"rcp [srcfile] [destfile]\");\n",
    "    println!(\"rcp [srcdir]/[srcfile] [destdir]/[destfile]\");\n",
    "}\n",
    "\n",
    "\n",
    "fn main_vars() {\n",
    "    let WORKING_DIR = get_current_working_dir();\n",
    "    println!(\"working dir {:?}\",WORKING_DIR);\n",
    "    /*\n",
    "    let args: Vec<String> = collect_user_arguments();\n",
    "\n",
    "    if check_if_arguments_count_valid(&args) {\n",
    "        let arg1 = &args[1];\n",
    "        let arg2 = &args[2];\n",
    "        println!(\"{:#?}\", determinate_is_it_file_or_dirctory(&arg1));\n",
    "    }*/\n",
    "    \n",
    "    for name in env::vars(){\n",
    "\n",
    "        println!(\"{:?}\",name);\n",
    "    }\n",
    "\n",
    "\n",
    "}"
   ]
  },
  {
   "cell_type": "code",
   "execution_count": null,
   "metadata": {
    "vscode": {
     "languageId": "rust"
    }
   },
   "outputs": [],
   "source": [
    "main_vars();"
   ]
  },
  {
   "cell_type": "markdown",
   "metadata": {},
   "source": [
    "#"
   ]
  },
  {
   "cell_type": "code",
   "execution_count": null,
   "metadata": {
    "vscode": {
     "languageId": "rust"
    }
   },
   "outputs": [],
   "source": [
    "fn echo() {\n",
    "    std::process::Command::new (\"/usr/bin/echo\")\n",
    "        .arg (\"Hello world\")\n",
    "        .status()\n",
    "        .unwrap();\n",
    "}"
   ]
  },
  {
   "cell_type": "code",
   "execution_count": null,
   "metadata": {
    "vscode": {
     "languageId": "rust"
    }
   },
   "outputs": [],
   "source": [
    "echo();"
   ]
  },
  {
   "cell_type": "code",
   "execution_count": null,
   "metadata": {
    "vscode": {
     "languageId": "rust"
    }
   },
   "outputs": [],
   "source": [
    "fn find(){\n",
    "    std::process::Command::new (\"/usr/bin/find\")\n",
    "        .arg (\"/tmp\")\n",
    "        .arg (\".tmp*\")\n",
    "        .status()\n",
    "        .unwrap();\n",
    "}"
   ]
  },
  {
   "cell_type": "code",
   "execution_count": null,
   "metadata": {
    "vscode": {
     "languageId": "rust"
    }
   },
   "outputs": [],
   "source": [
    "find();"
   ]
  },
  {
   "cell_type": "markdown",
   "metadata": {},
   "source": [
    "#user"
   ]
  },
  {
   "cell_type": "code",
   "execution_count": 32,
   "metadata": {
    "vscode": {
     "languageId": "rust"
    }
   },
   "outputs": [],
   "source": [
    "fn call_user(){\n",
    "    std::process::Command::new (\"/usr/bin/id\")\n",
    "        .status()\n",
    "        .unwrap();\n",
    "}"
   ]
  },
  {
   "cell_type": "code",
   "execution_count": 33,
   "metadata": {
    "vscode": {
     "languageId": "rust"
    }
   },
   "outputs": [
    {
     "name": "stdout",
     "output_type": "stream",
     "text": [
      "uid=1000(trapapa) gid=1000(trapapa) Gruppen=1000(trapapa),4(adm),20(dialout),24(cdrom),27(sudo),30(dip),46(plugdev),120(lpadmin),131(lxd),132(sambashare)\n"
     ]
    }
   ],
   "source": [
    "call_user();"
   ]
  },
  {
   "cell_type": "markdown",
   "metadata": {},
   "source": [
    "# bash command ls order by date\n",
    "ls -ltrdt --color=none /tmp/.tmp*"
   ]
  },
  {
   "cell_type": "markdown",
   "metadata": {},
   "source": [
    "# bash fiert line of command output head -1\n",
    "ls -ltrdt --color=none /tmp/.tmp* |head -1"
   ]
  },
  {
   "cell_type": "markdown",
   "metadata": {},
   "source": [
    "# the last generate folder inside /tmp\n",
    "ls -ltrdt   --color=none /tmp/.tmp* |head -1| awk '{print $9}'"
   ]
  },
  {
   "cell_type": "code",
   "execution_count": null,
   "metadata": {
    "vscode": {
     "languageId": "rust"
    }
   },
   "outputs": [],
   "source": [
    "println!(\"Hello World!\");"
   ]
  },
  {
   "cell_type": "code",
   "execution_count": 5,
   "metadata": {
    "vscode": {
     "languageId": "rust"
    }
   },
   "outputs": [
    {
     "data": {
      "text/plain": [
       "\"/tmp/.tmpzfHuiV\"\n"
      ]
     },
     "execution_count": 5,
     "metadata": {},
     "output_type": "execute_result"
    }
   ],
   "source": [
    ":last_compile_dir -h"
   ]
  },
  {
   "cell_type": "markdown",
   "metadata": {},
   "source": [
    "ls -ltrdt   --color=none /tmp/.tmp* |head -1| awk '{print $9}'"
   ]
  },
  {
   "cell_type": "code",
   "execution_count": 9,
   "metadata": {
    "vscode": {
     "languageId": "rust"
    }
   },
   "outputs": [],
   "source": [
    "fn find_evxcr_work_folder(){\n",
    "    std::process::Command::new (\"/usr/bin/ls\")\n",
    "        .arg(\"-ldt\")\n",
    "        .arg (\"/tmp/*\")\n",
    "        .status()\n",
    "        .unwrap();\n",
    "}"
   ]
  },
  {
   "cell_type": "code",
   "execution_count": 10,
   "metadata": {
    "vscode": {
     "languageId": "rust"
    }
   },
   "outputs": [
    {
     "name": "stderr",
     "output_type": "stream",
     "text": [
      "/usr/bin/ls: Zugriff auf '/tmp/*' nicht möglich: Datei oder Verzeichnis nicht gefunden\n"
     ]
    }
   ],
   "source": [
    "find_evxcr_work_folder();"
   ]
  }
 ],
 "metadata": {
  "kernelspec": {
   "display_name": "Rust",
   "language": "rust",
   "name": "rust"
  },
  "language_info": {
   "codemirror_mode": "rust",
   "file_extension": ".rs",
   "mimetype": "text/rust",
   "name": "Rust",
   "pygment_lexer": "rust",
   "version": ""
  },
  "orig_nbformat": 4
 },
 "nbformat": 4,
 "nbformat_minor": 2
}
