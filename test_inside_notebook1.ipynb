{
 "cells": [
  {
   "cell_type": "markdown",
   "metadata": {},
   "source": [
    "# Test (rust) inside notebook, run test inside the /temp folder of the notebook "
   ]
  },
  {
   "cell_type": "markdown",
   "metadata": {},
   "source": [
    "## first example => parts of shell command ls -l -> for check of the correct command"
   ]
  },
  {
   "cell_type": "markdown",
   "metadata": {},
   "source": [
    "- working directory"
   ]
  },
  {
   "cell_type": "code",
   "execution_count": 62,
   "metadata": {
    "vscode": {
     "languageId": "rust"
    }
   },
   "outputs": [
    {
     "data": {
      "text/plain": [
       "\"/tmp/.tmpM1UnJ7\"\n"
      ]
     },
     "execution_count": 62,
     "metadata": {},
     "output_type": "execute_result"
    }
   ],
   "source": [
    ":last_compile_dir -h"
   ]
  },
  {
   "cell_type": "markdown",
   "metadata": {},
   "source": [
    "- code"
   ]
  },
  {
   "cell_type": "code",
   "execution_count": 2,
   "metadata": {
    "vscode": {
     "languageId": "rust"
    }
   },
   "outputs": [],
   "source": [
    "use std::process::Command;\n",
    "\n",
    "fn main() {\n",
    "    let mut command = Command::new(\"ls\");\n",
    "    command.arg(\"-l\");\n",
    "    let command_string: String = std::format!(\"{:?}\", command);\n",
    "\n",
    "    // Print the command_string to standard output\n",
    "    println!(\"cmd: {}\", command_string);\n",
    "\n",
    "    // split the command string accordinig to whitespace\n",
    "    let command_parts = command_string.split(' ');\n",
    "\n",
    "    // print the individual parts of the command_string\n",
    "    for (index, part) in command_parts.enumerate() {\n",
    "        println!(\"part[{}]: {}\", index, part);\n",
    "    }\n",
    "}\n"
   ]
  },
  {
   "cell_type": "code",
   "execution_count": 3,
   "metadata": {
    "vscode": {
     "languageId": "rust"
    }
   },
   "outputs": [
    {
     "name": "stdout",
     "output_type": "stream",
     "text": [
      "cmd: \"ls\" \"-l\"\n"
     ]
    },
    {
     "name": "stdout",
     "output_type": "stream",
     "text": [
      "part[0]: \"ls\"\n",
      "part[1]: \"-l\"\n"
     ]
    }
   ],
   "source": [
    "main();"
   ]
  },
  {
   "cell_type": "markdown",
   "metadata": {},
   "source": [
    "# execute command inside shell"
   ]
  },
  {
   "cell_type": "code",
   "execution_count": 4,
   "metadata": {
    "vscode": {
     "languageId": "rust"
    }
   },
   "outputs": [],
   "source": [
    "use std::process::Command;\n",
    "\n",
    "fn main_execute_cmd(){\n",
    "let mut list_dir = Command::new(\"ls\");\n",
    "list_dir.arg(\"-l\");\n",
    "\n",
    "\n",
    "\n",
    "// Execute `ls` in the current directory of the program.\n",
    "list_dir.status().expect(\"process failed to execute\");\n",
    "\n",
    "println!();\n",
    "\n",
    "// Change `ls` to execute in the root directory.\n",
    "list_dir.current_dir(\"./\");\n",
    "\n",
    "// And then execute `ls` again but in the root directory.\n",
    "list_dir.status().expect(\"process failed to execute\");\n",
    "}"
   ]
  },
  {
   "cell_type": "code",
   "execution_count": 5,
   "metadata": {
    "vscode": {
     "languageId": "rust"
    }
   },
   "outputs": [
    {
     "name": "stdout",
     "output_type": "stream",
     "text": [
      "insgesamt 80\n",
      "-rw-rw-r-- 1 trapapa trapapa   169 Sep  4 08:19 Cargo.lock\n",
      "-rw-rw-r-- 1 trapapa trapapa   194 Sep  4 08:11 Cargo.toml\n",
      "drwxrwxr-x 2 trapapa trapapa  4096 Sep  4 08:11 src\n",
      "drwxrwxr-x 3 trapapa trapapa  4096 Sep  4 08:19 target\n",
      "-rw-rw-r-- 1 trapapa trapapa 21589 Sep  4 11:17 test_inside_notebook1.ipynb\n",
      "-rw-rw-r-- 1 trapapa trapapa 23631 Sep  4 15:57 test_inside_notebook2.ipynb\n",
      "-rw-rw-r-- 1 trapapa trapapa 15922 Sep  5 14:59 Vector1.ipynb\n",
      "\n",
      "insgesamt 80\n"
     ]
    },
    {
     "name": "stdout",
     "output_type": "stream",
     "text": [
      "-rw-rw-r-- 1 trapapa trapapa   169 Sep  4 08:19 Cargo.lock\n",
      "-rw-rw-r-- 1 trapapa trapapa   194 Sep  4 08:11 Cargo.toml\n",
      "drwxrwxr-x 2 trapapa trapapa  4096 Sep  4 08:11 src\n",
      "drwxrwxr-x 3 trapapa trapapa  4096 Sep  4 08:19 target\n",
      "-rw-rw-r-- 1 trapapa trapapa 21589 Sep  4 11:17 test_inside_notebook1.ipynb\n",
      "-rw-rw-r-- 1 trapapa trapapa 23631 Sep  4 15:57 test_inside_notebook2.ipynb\n",
      "-rw-rw-r-- 1 trapapa trapapa 15922 Sep  5 14:59 Vector1.ipynb\n"
     ]
    }
   ],
   "source": [
    "main_execute_cmd();"
   ]
  },
  {
   "cell_type": "markdown",
   "metadata": {},
   "source": [
    "# same cmd in another directory"
   ]
  },
  {
   "cell_type": "code",
   "execution_count": 20,
   "metadata": {
    "vscode": {
     "languageId": "rust"
    }
   },
   "outputs": [],
   "source": [
    "use std::process::Command;\n",
    "\n",
    "fn call_pwd(){\n",
    "let mut list_dir = Command::new(\"pwd\");\n",
    "//list_dir.arg(\"-l\");\n",
    "\n",
    "// Change `ls` to execute in the root directory.\n",
    "// HERE change we are the directory\n",
    "//list_dir.current_dir(\"src\");\n",
    "\n",
    "// Execute `ls` in the current directory of the program.\n",
    "list_dir.status().expect(\"process failed to execute\");\n",
    "\n",
    "println!();\n",
    "\n",
    "// Change `ls` to execute in the root directory.\n",
    "// HERE change we are the directory\n",
    "list_dir.current_dir(\"/tmp\");\n",
    "let mut list_dir = Command::new(\"pwd\");\n",
    "// And then execute `ls` again but in the root directory.\n",
    "list_dir.status().expect(\"process failed to execute\");\n",
    "}"
   ]
  },
  {
   "cell_type": "code",
   "execution_count": 21,
   "metadata": {
    "vscode": {
     "languageId": "rust"
    }
   },
   "outputs": [
    {
     "name": "stdout",
     "output_type": "stream",
     "text": [
      "/home/trapapa/rust_test_inside_notebook\n",
      "\n",
      "/home/trapapa/rust_test_inside_notebook\n"
     ]
    }
   ],
   "source": [
    "call_pwd();"
   ]
  },
  {
   "cell_type": "markdown",
   "metadata": {},
   "source": [
    "# cmd set inside actual shell"
   ]
  },
  {
   "cell_type": "code",
   "execution_count": 47,
   "metadata": {
    "vscode": {
     "languageId": "rust"
    }
   },
   "outputs": [],
   "source": [
    "use std::process::Command;\n",
    "\n",
    "fn call_find() {\n",
    "    let mut cmd = Command::new(\"find\");\n",
    "    cmd.arg(\"/tmp\");\n",
    "    cmd.arg(\"-name\");\n",
    "    cmd.arg(\"\\\".*\\\"\");\n",
    "    cmd.arg(\"-user\");\n",
    "    cmd.arg(r\"trapapa\");\n",
    "    //get cmd as  string\n",
    "    let command_string: String = std::format!(\"{:?}\", cmd);\n",
    "\n",
    "    // Print the command_string to standard output\n",
    "    println!(\"cmd: {}\", command_string);\n",
    "\n",
    "    //list_dir.current_dir(\"src\");\n",
    "\n",
    "    // Execute command\n",
    "    cmd.status().expect(\"process failed to execute\");\n",
    "}\n"
   ]
  },
  {
   "cell_type": "code",
   "execution_count": 48,
   "metadata": {
    "vscode": {
     "languageId": "rust"
    }
   },
   "outputs": [
    {
     "name": "stdout",
     "output_type": "stream",
     "text": [
      "cmd: \"find\" \"/tmp\" \"-name\" \"\\\".*\\\"\" \"-user\" \"trapapa\"\n"
     ]
    },
    {
     "name": "stderr",
     "output_type": "stream",
     "text": [
      "find: ‘/tmp/systemd-private-787efb6aa2214380b653cacd2a73ee16-systemd-resolved.service-Q5Z9US’: Keine Berechtigung\n",
      "find: ‘/tmp/snap-private-tmp’: Keine Berechtigung\n",
      "find: ‘/tmp/systemd-private-787efb6aa2214380b653cacd2a73ee16-bluetooth.service-olblil’: Keine Berechtigung\n",
      "find: ‘/tmp/systemd-private-787efb6aa2214380b653cacd2a73ee16-switcheroo-control.service-7avlj0’: Keine Berechtigung\n",
      "find: ‘/tmp/systemd-private-787efb6aa2214380b653cacd2a73ee16-upower.service-JsZGdM’: Keine Berechtigung\n",
      "find: ‘/tmp/systemd-private-787efb6aa2214380b653cacd2a73ee16-systemd-logind.service-rC1D66’: Keine Berechtigung\n",
      "find: ‘/tmp/tracker-extract-3-files.125’: Keine Berechtigung\n",
      "find: ‘/tmp/systemd-private-787efb6aa2214380b653cacd2a73ee16-ModemManager.service-q7sY7D’: Keine Berechtigung\n",
      "find: ‘/tmp/systemd-private-787efb6aa2214380b653cacd2a73ee16-systemd-timesyncd.service-JDJ7ZM’: Keine Berechtigung\n",
      "find: ‘/tmp/systemd-private-787efb6aa2214380b653cacd2a73ee16-power-profiles-daemon.service-M1f4TA’: Keine Berechtigung\n"
     ]
    },
    {
     "name": "stderr",
     "output_type": "stream",
     "text": [
      "find: ‘/tmp/systemd-private-787efb6aa2214380b653cacd2a73ee16-apache2.service-9Wsj8q’: Keine Berechtigung\n",
      "find: ‘/tmp/systemd-private-787efb6aa2214380b653cacd2a73ee16-colord.service-t4lN92’: Keine Berechtigung\n"
     ]
    }
   ],
   "source": [
    "call_find();"
   ]
  },
  {
   "cell_type": "markdown",
   "metadata": {},
   "source": [
    "# get env variable evcr notebook e.g. user\n",
    "\n",
    "- [in python](https://ericmjl.github.io/blog/2021/5/14/set-environment-variables-inside-a-jupyter-notebook/)\n",
    "- [in rust](https://www.thorsten-hans.com/working-with-environment-variables-in-rust/)"
   ]
  },
  {
   "cell_type": "code",
   "execution_count": null,
   "metadata": {
    "vscode": {
     "languageId": "rust"
    }
   },
   "outputs": [],
   "source": [
    "use std::env;\n",
    "\n",
    "fn main_user() {\n",
    "    let u = match env::var_os(\"USER\") {\n",
    "        Some(v) => v.into_string().unwrap(),\n",
    "        None => panic!(\"$USER is not set\")\n",
    "    };\n",
    "    println!(\"Got username: {}\", u);\n",
    "}"
   ]
  },
  {
   "cell_type": "markdown",
   "metadata": {},
   "source": []
  },
  {
   "cell_type": "code",
   "execution_count": 24,
   "metadata": {
    "vscode": {
     "languageId": "rust"
    }
   },
   "outputs": [],
   "source": [
    "use std::env;\n",
    "fn main_set_env() {\n",
    "    let key = \"KEY\";\n",
    "    env::set_var(key, \"VALUE\");\n",
    "    assert_eq!(env::var(key), Ok(\"VALUE\".to_string()));\n",
    "}\n"
   ]
  },
  {
   "cell_type": "code",
   "execution_count": 25,
   "metadata": {
    "vscode": {
     "languageId": "rust"
    }
   },
   "outputs": [],
   "source": [
    "main_set_env();"
   ]
  },
  {
   "cell_type": "code",
   "execution_count": 39,
   "metadata": {
    "vscode": {
     "languageId": "rust"
    }
   },
   "outputs": [],
   "source": [
    "use std::env;\n",
    "\n",
    "fn main_get_env() {\n",
    "    let u = match env::var_os(\"KEY\") {\n",
    "        Some(v) => v.into_string().unwrap(),\n",
    "        None => panic!(\"$USER is not set\")\n",
    "    };\n",
    "    println!(\"Got value of KEY: {}\", u);\n",
    "}"
   ]
  },
  {
   "cell_type": "code",
   "execution_count": 40,
   "metadata": {
    "vscode": {
     "languageId": "rust"
    }
   },
   "outputs": [
    {
     "name": "stdout",
     "output_type": "stream",
     "text": [
      "Got value of KEY: VALUE\n"
     ]
    }
   ],
   "source": [
    "main_get_env();"
   ]
  },
  {
   "cell_type": "markdown",
   "metadata": {},
   "source": [
    "# get PWD"
   ]
  },
  {
   "cell_type": "code",
   "execution_count": 41,
   "metadata": {
    "vscode": {
     "languageId": "rust"
    }
   },
   "outputs": [],
   "source": [
    "use std::env;\n",
    "\n",
    "fn main_get_env_pwd() {\n",
    "    let u = match env::var_os(\"PWD\") {\n",
    "        Some(v) => v.into_string().unwrap(),\n",
    "        None => panic!(\"$USER is not set\")\n",
    "    };\n",
    "    println!(\"Got value of KEY: {}\", u);\n",
    "}"
   ]
  },
  {
   "cell_type": "code",
   "execution_count": 42,
   "metadata": {
    "vscode": {
     "languageId": "rust"
    }
   },
   "outputs": [
    {
     "name": "stdout",
     "output_type": "stream",
     "text": [
      "Got value of KEY: /home/trapapa/rust_test_inside_notebook\n"
     ]
    }
   ],
   "source": [
    "main_get_env_pwd();"
   ]
  },
  {
   "cell_type": "markdown",
   "metadata": {},
   "source": [
    "# use  notebook vars inside code block"
   ]
  },
  {
   "cell_type": "code",
   "execution_count": 37,
   "metadata": {
    "vscode": {
     "languageId": "rust"
    }
   },
   "outputs": [],
   "source": [
    "fn main_use_vars(){\n",
    "\n",
    "    println!(\"use vars :{{last_compile_dir}}\");\n",
    "}"
   ]
  },
  {
   "cell_type": "code",
   "execution_count": 38,
   "metadata": {
    "vscode": {
     "languageId": "rust"
    }
   },
   "outputs": [
    {
     "name": "stdout",
     "output_type": "stream",
     "text": [
      "use vars :{last_compile_dir}\n"
     ]
    }
   ],
   "source": [
    "main_use_vars();"
   ]
  },
  {
   "cell_type": "code",
   "execution_count": 36,
   "metadata": {
    "vscode": {
     "languageId": "rust"
    }
   },
   "outputs": [
    {
     "ename": "Error",
     "evalue": "Unrecognised command :source",
     "output_type": "error",
     "traceback": [
      "\u001b[31mError:\u001b[0m Unrecognised command :source"
     ]
    }
   ],
   "source": [
    "//:set CARGO_REGISTRY_DEFAULT=USTC\n",
    ":source registry = \"https://example.com\""
   ]
  },
  {
   "cell_type": "markdown",
   "metadata": {},
   "source": [
    "- [FROM HERE](https://play.rust-lang.org/?version=stable&mode=debug&edition=2018&gist=f525b0348c7b7939c520b23f833641b3)\n",
    "- [FROM HERE 2](https://stackoverflow.com/questions/69540812/how-to-return-current-working-directory-from-function)"
   ]
  },
  {
   "cell_type": "code",
   "execution_count": 66,
   "metadata": {
    "vscode": {
     "languageId": "rust"
    }
   },
   "outputs": [],
   "source": [
    ":dep regex"
   ]
  },
  {
   "cell_type": "code",
   "execution_count": 83,
   "metadata": {
    "vscode": {
     "languageId": "rust"
    }
   },
   "outputs": [],
   "source": [
    "use std::path::PathBuf;\n",
    "use std::fs;\n",
    "use std::env;\n",
    "// use serde_json;\n",
    "use regex::Regex;\n",
    "\n",
    "fn determinate_file_size(file: &str) -> u64 {\n",
    "    fs::metadata(file).unwrap().len()\n",
    "}\n",
    "\n",
    "fn determinate_is_it_file_or_dirctory(arg: &str) -> &str {\n",
    "    let file = \"File\";\n",
    "    let dir = \"Directory\";\n",
    "    let re = Regex::new(r\"/\").unwrap();\n",
    "    if re.is_match(arg) {\n",
    "        return dir;\n",
    "    }\n",
    "    return file;\n",
    "}\n",
    "\n",
    "fn collect_user_arguments() -> Vec<String> {\n",
    "    env::args().collect()\n",
    "}\n",
    "\n",
    "fn check_if_arguments_count_valid(args: &Vec<String>) -> bool {\n",
    "    if args.len() == 3 {\n",
    "        return true\n",
    "    }\n",
    "    help();\n",
    "    return false\n",
    "}\n",
    "\n",
    "fn get_current_working_dir() -> std::io::Result<PathBuf> {\n",
    "    env::current_exe()\n",
    "}\n",
    "\n",
    "fn help() {\n",
    "    println!(\"Examples:\");\n",
    "    println!(\"rcp [srcfile] [destfile]\");\n",
    "    println!(\"rcp [srcdir]/[srcfile] [destdir]/[destfile]\");\n",
    "}\n",
    "\n",
    "\n",
    "fn main_vars() {\n",
    "    let WORKING_DIR = get_current_working_dir();\n",
    "    println!(\"working dir {:?}\",WORKING_DIR);\n",
    "    /*\n",
    "    let args: Vec<String> = collect_user_arguments();\n",
    "\n",
    "    if check_if_arguments_count_valid(&args) {\n",
    "        let arg1 = &args[1];\n",
    "        let arg2 = &args[2];\n",
    "        println!(\"{:#?}\", determinate_is_it_file_or_dirctory(&arg1));\n",
    "    }*/\n",
    "    \n",
    "    for name in env::vars(){\n",
    "\n",
    "        println!(\"{:?}\",name);\n",
    "    }\n",
    "\n",
    "\n",
    "}"
   ]
  },
  {
   "cell_type": "code",
   "execution_count": null,
   "metadata": {
    "vscode": {
     "languageId": "rust"
    }
   },
   "outputs": [],
   "source": [
    "main_vars();"
   ]
  },
  {
   "cell_type": "markdown",
   "metadata": {},
   "source": [
    "#"
   ]
  },
  {
   "cell_type": "code",
   "execution_count": 2,
   "metadata": {
    "vscode": {
     "languageId": "rust"
    }
   },
   "outputs": [],
   "source": [
    "fn echo() {\n",
    "    std::process::Command::new (\"/usr/bin/echo\")\n",
    "        .arg (\"Hello world\")\n",
    "        .status()\n",
    "        .unwrap();\n",
    "}"
   ]
  },
  {
   "cell_type": "code",
   "execution_count": 3,
   "metadata": {
    "vscode": {
     "languageId": "rust"
    }
   },
   "outputs": [
    {
     "name": "stdout",
     "output_type": "stream",
     "text": [
      "Hello world\n"
     ]
    }
   ],
   "source": [
    "echo();"
   ]
  },
  {
   "cell_type": "code",
   "execution_count": 8,
   "metadata": {
    "vscode": {
     "languageId": "rust"
    }
   },
   "outputs": [],
   "source": [
    "fn find(){\n",
    "    std::process::Command::new (\"/usr/bin/find\")\n",
    "        .arg (\"/tmp\")\n",
    "        .arg (\".*\")\n",
    "        .status()\n",
    "        .unwrap();\n",
    "}"
   ]
  },
  {
   "cell_type": "code",
   "execution_count": null,
   "metadata": {
    "vscode": {
     "languageId": "rust"
    }
   },
   "outputs": [],
   "source": [
    "find();"
   ]
  }
 ],
 "metadata": {
  "kernelspec": {
   "display_name": "Rust",
   "language": "rust",
   "name": "rust"
  },
  "language_info": {
   "codemirror_mode": "rust",
   "file_extension": ".rs",
   "mimetype": "text/rust",
   "name": "Rust",
   "pygment_lexer": "rust",
   "version": ""
  },
  "orig_nbformat": 4
 },
 "nbformat": 4,
 "nbformat_minor": 2
}
