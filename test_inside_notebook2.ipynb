{
 "cells": [
  {
   "cell_type": "markdown",
   "metadata": {},
   "source": [
    "# Test (rust) inside notebook, run test inside the /temp folder of the notebook "
   ]
  },
  {
   "cell_type": "markdown",
   "metadata": {},
   "source": [
    "## first example => parts of shell command ls -l -> for check of the correct command"
   ]
  },
  {
   "cell_type": "markdown",
   "metadata": {},
   "source": [
    "- working directory"
   ]
  },
  {
   "cell_type": "code",
   "execution_count": null,
   "metadata": {},
   "outputs": [],
   "source": [
    ":last_compile_dir\n"
   ]
  },
  {
   "cell_type": "markdown",
   "metadata": {},
   "source": [
    "- code"
   ]
  },
  {
   "cell_type": "code",
   "execution_count": null,
   "metadata": {},
   "outputs": [],
   "source": [
    "use std::process::Command;\n",
    "\n",
    "fn main() {\n",
    "    let mut command = Command::new(\"ls\");\n",
    "    command.arg(\"-l\");\n",
    "    let command_string: String = std::format!(\"{:?}\", command);\n",
    "\n",
    "    // Print the command_string to standard output\n",
    "    println!(\"cmd: {}\", command_string);\n",
    "\n",
    "    // split the command string accordinig to whitespace\n",
    "    let command_parts = command_string.split(' ');\n",
    "\n",
    "    // print the individual parts of the command_string\n",
    "    for (index, part) in command_parts.enumerate() {\n",
    "        println!(\"part[{}]: {}\", index, part);\n",
    "    }\n",
    "}\n"
   ]
  },
  {
   "cell_type": "code",
   "execution_count": null,
   "metadata": {},
   "outputs": [],
   "source": [
    "main();"
   ]
  },
  {
   "cell_type": "markdown",
   "metadata": {},
   "source": [
    "# execute command inside shell"
   ]
  },
  {
   "cell_type": "code",
   "execution_count": null,
   "metadata": {},
   "outputs": [],
   "source": [
    "use std::process::Command;\n",
    "\n",
    "fn main_execute_cmd(){\n",
    "let mut list_dir = Command::new(\"ls\");\n",
    "list_dir.arg(\"-l\");\n",
    "\n",
    "\n",
    "\n",
    "// Execute `ls` in the current directory of the program.\n",
    "list_dir.status().expect(\"process failed to execute\");\n",
    "\n",
    "println!();\n",
    "\n",
    "// Change `ls` to execute in the root directory.\n",
    "list_dir.current_dir(\"./\");\n",
    "\n",
    "// And then execute `ls` again but in the root directory.\n",
    "list_dir.status().expect(\"process failed to execute\");\n",
    "}"
   ]
  },
  {
   "cell_type": "code",
   "execution_count": null,
   "metadata": {},
   "outputs": [],
   "source": [
    "main_execute_cmd();"
   ]
  },
  {
   "cell_type": "markdown",
   "metadata": {},
   "source": [
    "# same cmd in another directory"
   ]
  },
  {
   "cell_type": "code",
   "execution_count": null,
   "metadata": {},
   "outputs": [],
   "source": [
    "use std::process::Command;\n",
    "\n",
    "fn main_change_dir_to_src(){\n",
    "let mut list_dir = Command::new(\"ls\");\n",
    "list_dir.arg(\"-l\");\n",
    "\n",
    "// Change `ls` to execute in the root directory.\n",
    "// HERE change we are the directory\n",
    "list_dir.current_dir(\"src\");\n",
    "\n",
    "// Execute `ls` in the current directory of the program.\n",
    "list_dir.status().expect(\"process failed to execute\");\n",
    "\n",
    "/* \n",
    "println!();\n",
    "\n",
    "// Change `ls` to execute in the root directory.\n",
    "// HERE change we are the directory\n",
    "list_dir.current_dir(\"./src\");\n",
    "\n",
    "// And then execute `ls` again but in the root directory.\n",
    "list_dir.status().expect(\"process failed to execute\");\n",
    "*/\n",
    "}"
   ]
  },
  {
   "cell_type": "code",
   "execution_count": null,
   "metadata": {},
   "outputs": [],
   "source": [
    "main_change_dir_to_src();"
   ]
  },
  {
   "cell_type": "markdown",
   "metadata": {},
   "source": [
    "# cmd pwd inside actual shell"
   ]
  },
  {
   "cell_type": "code",
   "execution_count": null,
   "metadata": {},
   "outputs": [],
   "source": [
    "use std::process::Command;\n",
    "\n",
    "fn main_call_pwd(){\n",
    "    let mut list_dir = Command::new(\"pwd\");\n",
    "    //list_dir.arg(\"-l\");\n",
    "\n",
    "    // Change `ls` to execute in the root directory.\n",
    "    // HERE change we are the directory\n",
    "    list_dir.current_dir(\"./src\");\n",
    "\n",
    "    // Execute `ls` in the current directory of the program.\n",
    "    list_dir.status().expect(\"process failed to execute\");\n",
    "}\n"
   ]
  },
  {
   "cell_type": "code",
   "execution_count": null,
   "metadata": {},
   "outputs": [],
   "source": [
    "main_call_pwd();"
   ]
  },
  {
   "cell_type": "markdown",
   "metadata": {},
   "source": [
    "# get env variable evcr notebook e.g. user\n",
    "\n",
    "- [in python](https://ericmjl.github.io/blog/2021/5/14/set-environment-variables-inside-a-jupyter-notebook/)\n",
    "- [in rust](https://www.thorsten-hans.com/working-with-environment-variables-in-rust/)"
   ]
  },
  {
   "cell_type": "code",
   "execution_count": null,
   "metadata": {},
   "outputs": [],
   "source": [
    "use std::env;\n",
    "\n",
    "fn main_user() {\n",
    "    let u = match env::var_os(\"USER\") {\n",
    "        Some(v) => v.into_string().unwrap(),\n",
    "        None => panic!(\"$USER is not set\")\n",
    "    };\n",
    "    println!(\"Got username: {}\", u);\n",
    "}"
   ]
  },
  {
   "cell_type": "code",
   "execution_count": null,
   "metadata": {},
   "outputs": [],
   "source": [
    "main_user();"
   ]
  },
  {
   "cell_type": "markdown",
   "metadata": {},
   "source": [
    "# set env 'TEMP_KEY' with VALUE 'TEMP_VALUE'"
   ]
  },
  {
   "cell_type": "code",
   "execution_count": null,
   "metadata": {},
   "outputs": [],
   "source": [
    "use std::env;\n",
    "fn main_set_env() {\n",
    "    let key = \"TEMP_KEY\";\n",
    "    env::set_var(key, \"TEMP_VALUE\");\n",
    "    assert_eq!(env::var(key), Ok(\"TEMP_VALUE\".to_string()));\n",
    "}\n"
   ]
  },
  {
   "cell_type": "code",
   "execution_count": null,
   "metadata": {},
   "outputs": [],
   "source": [
    "main_set_env();"
   ]
  },
  {
   "cell_type": "code",
   "execution_count": null,
   "metadata": {},
   "outputs": [],
   "source": [
    "use std::env;\n",
    "\n",
    "fn main_get_env() {\n",
    "    let u = match env::var_os(\"TEMP_KEY\") {\n",
    "        Some(v) => v.into_string().unwrap(),\n",
    "        None => panic!(\"$USER is not set\")\n",
    "    };\n",
    "    println!(\"Got value of EMP_KEY: {}\", u);\n",
    "}"
   ]
  },
  {
   "cell_type": "code",
   "execution_count": null,
   "metadata": {},
   "outputs": [],
   "source": [
    "main_get_env();"
   ]
  },
  {
   "cell_type": "markdown",
   "metadata": {},
   "source": [
    "# call in shell cmd *PWD*"
   ]
  },
  {
   "cell_type": "code",
   "execution_count": null,
   "metadata": {},
   "outputs": [],
   "source": [
    "use std::env;\n",
    "\n",
    "fn main_get_env_pwd() {\n",
    "    let u = match env::var_os(\"PWD\") {\n",
    "        Some(v) => v.into_string().unwrap(),\n",
    "        None => panic!(\"$USER is not set\")\n",
    "    };\n",
    "    println!(\"Got value of command: {}\", u);\n",
    "}"
   ]
  },
  {
   "cell_type": "code",
   "execution_count": null,
   "metadata": {},
   "outputs": [],
   "source": [
    "main_get_env_pwd();"
   ]
  },
  {
   "cell_type": "code",
   "execution_count": null,
   "metadata": {},
   "outputs": [],
   "source": [
    "# call cargo"
   ]
  },
  {
   "cell_type": "code",
   "execution_count": null,
   "metadata": {},
   "outputs": [],
   "source": [
    "use std::process::Command;\n",
    "\n",
    "fn call_cargo() {\n",
    "    let mut list_dir = Command::new(\"cargo\");\n",
    "    //list_dir.arg(\"-l\");\n",
    "\n",
    "    // Change `ls` to execute in the root directory.\n",
    "    // HERE change we are the directory\n",
    "    list_dir.current_dir(\"./src\");\n",
    "\n",
    "    // Execute `ls` in the current directory of the program.\n",
    "    list_dir.status().expect(\"process failed to execute\");\n",
    "}\n"
   ]
  },
  {
   "cell_type": "code",
   "execution_count": null,
   "metadata": {},
   "outputs": [],
   "source": [
    "call_cargo();"
   ]
  },
  {
   "cell_type": "markdown",
   "metadata": {},
   "source": [
    "# call shell command"
   ]
  },
  {
   "cell_type": "code",
   "execution_count": null,
   "metadata": {},
   "outputs": [],
   "source": [
    "use std::process::Command;\n",
    "\n",
    "fn call(cmd:String) {\n",
    "    let mut list_dir = Command::new(cmd);\n",
    "    //list_dir.arg(\"-l\");\n",
    "\n",
    "    // Change `ls` to execute in the root directory.\n",
    "    // HERE change we are the directory\n",
    "    list_dir.current_dir(\"./src\");\n",
    "\n",
    "    // Execute `ls` in the current directory of the program.\n",
    "    list_dir.status().expect(\"process failed to execute\");\n",
    "}\n"
   ]
  },
  {
   "cell_type": "code",
   "execution_count": null,
   "metadata": {},
   "outputs": [],
   "source": [
    "call(\"pwd\".to_string());"
   ]
  },
  {
   "cell_type": "code",
   "execution_count": null,
   "metadata": {},
   "outputs": [],
   "source": [
    "call(\"ls\".to_string());"
   ]
  },
  {
   "cell_type": "code",
   "execution_count": null,
   "metadata": {},
   "outputs": [],
   "source": [
    "call(\"cargo\".to_string());"
   ]
  },
  {
   "cell_type": "markdown",
   "metadata": {},
   "source": [
    "# pass a vector to function\n",
    "\n",
    "- (FROM HERE)[https://stackoverflow.com/questions/67037836/how-to-pass-a-vector-as-a-parameter-in-rust]"
   ]
  },
  {
   "cell_type": "code",
   "execution_count": 89,
   "metadata": {},
   "outputs": [
    {
     "ename": "Error",
     "evalue": "mismatched types",
     "output_type": "error",
     "traceback": [
      "\u001b[31m[E0308] Error:\u001b[0m mismatched types",
      "   \u001b[38;5;246m╭\u001b[0m\u001b[38;5;246m─\u001b[0m\u001b[38;5;246m[\u001b[0mcommand_89:1:1\u001b[38;5;246m]\u001b[0m",
      "   \u001b[38;5;246m│\u001b[0m",
      " \u001b[38;5;246m1 │\u001b[0m \u001b[38;5;249mf\u001b[0m\u001b[38;5;249mn\u001b[0m\u001b[38;5;249m \u001b[0m\u001b[38;5;100ma\u001b[0m\u001b[38;5;100mn\u001b[0m\u001b[38;5;100ma\u001b[0m\u001b[38;5;100mg\u001b[0m\u001b[38;5;100mr\u001b[0m\u001b[38;5;100ma\u001b[0m\u001b[38;5;100mm\u001b[0m\u001b[38;5;100ms\u001b[0m\u001b[38;5;100m_\u001b[0m\u001b[38;5;100mf\u001b[0m\u001b[38;5;100mo\u001b[0m\u001b[38;5;100mr\u001b[0m\u001b[38;5;249m<\u001b[0m\u001b[38;5;249m'\u001b[0m\u001b[38;5;249ma\u001b[0m\u001b[38;5;249m>\u001b[0m\u001b[38;5;249m(\u001b[0m\u001b[38;5;249mw\u001b[0m\u001b[38;5;249mo\u001b[0m\u001b[38;5;249mr\u001b[0m\u001b[38;5;249md\u001b[0m\u001b[38;5;249m:\u001b[0m\u001b[38;5;249m \u001b[0m\u001b[38;5;249m&\u001b[0m\u001b[38;5;249ms\u001b[0m\u001b[38;5;249mt\u001b[0m\u001b[38;5;249mr\u001b[0m\u001b[38;5;249m,\u001b[0m\u001b[38;5;249m \u001b[0m\u001b[38;5;249mi\u001b[0m\u001b[38;5;249mn\u001b[0m\u001b[38;5;249mp\u001b[0m\u001b[38;5;249m:\u001b[0m\u001b[38;5;249m \u001b[0m\u001b[38;5;249m&\u001b[0m\u001b[38;5;249m[\u001b[0m\u001b[38;5;249m&\u001b[0m\u001b[38;5;249m'\u001b[0m\u001b[38;5;249ma\u001b[0m\u001b[38;5;249m \u001b[0m\u001b[38;5;249ms\u001b[0m\u001b[38;5;249mt\u001b[0m\u001b[38;5;249mr\u001b[0m\u001b[38;5;249m]\u001b[0m\u001b[38;5;249m)\u001b[0m\u001b[38;5;249m \u001b[0m\u001b[38;5;249m-\u001b[0m\u001b[38;5;249m>\u001b[0m\u001b[38;5;249m \u001b[0m\u001b[38;5;54mV\u001b[0m\u001b[38;5;54me\u001b[0m\u001b[38;5;54mc\u001b[0m\u001b[38;5;54m<\u001b[0m\u001b[38;5;54m&\u001b[0m\u001b[38;5;54m'\u001b[0m\u001b[38;5;54ma\u001b[0m\u001b[38;5;54m \u001b[0m\u001b[38;5;54ms\u001b[0m\u001b[38;5;54mt\u001b[0m\u001b[38;5;54mr\u001b[0m\u001b[38;5;54m>\u001b[0m\u001b[38;5;249m{\u001b[0m",
      " \u001b[38;5;240m  │\u001b[0m    \u001b[38;5;100m─\u001b[0m\u001b[38;5;100m─\u001b[0m\u001b[38;5;100m─\u001b[0m\u001b[38;5;100m─\u001b[0m\u001b[38;5;100m─\u001b[0m\u001b[38;5;100m─\u001b[0m\u001b[38;5;100m┬\u001b[0m\u001b[38;5;100m─\u001b[0m\u001b[38;5;100m─\u001b[0m\u001b[38;5;100m─\u001b[0m\u001b[38;5;100m─\u001b[0m\u001b[38;5;100m─\u001b[0m                                     \u001b[38;5;54m─\u001b[0m\u001b[38;5;54m─\u001b[0m\u001b[38;5;54m─\u001b[0m\u001b[38;5;54m─\u001b[0m\u001b[38;5;54m─\u001b[0m\u001b[38;5;54m─\u001b[0m\u001b[38;5;54m┬\u001b[0m\u001b[38;5;54m─\u001b[0m\u001b[38;5;54m─\u001b[0m\u001b[38;5;54m─\u001b[0m\u001b[38;5;54m─\u001b[0m\u001b[38;5;54m─\u001b[0m  ",
      " \u001b[38;5;240m  │\u001b[0m          \u001b[38;5;100m╰\u001b[0m\u001b[38;5;100m─\u001b[0m\u001b[38;5;100m─\u001b[0m\u001b[38;5;100m─\u001b[0m\u001b[38;5;100m─\u001b[0m\u001b[38;5;100m─\u001b[0m\u001b[38;5;100m─\u001b[0m\u001b[38;5;100m─\u001b[0m\u001b[38;5;100m─\u001b[0m\u001b[38;5;100m─\u001b[0m\u001b[38;5;100m─\u001b[0m\u001b[38;5;100m─\u001b[0m\u001b[38;5;100m─\u001b[0m\u001b[38;5;100m─\u001b[0m\u001b[38;5;100m─\u001b[0m\u001b[38;5;100m─\u001b[0m\u001b[38;5;100m─\u001b[0m\u001b[38;5;100m─\u001b[0m\u001b[38;5;100m─\u001b[0m\u001b[38;5;100m─\u001b[0m\u001b[38;5;100m─\u001b[0m\u001b[38;5;100m─\u001b[0m\u001b[38;5;100m─\u001b[0m\u001b[38;5;100m─\u001b[0m\u001b[38;5;100m─\u001b[0m\u001b[38;5;100m─\u001b[0m\u001b[38;5;100m─\u001b[0m\u001b[38;5;100m─\u001b[0m\u001b[38;5;100m─\u001b[0m\u001b[38;5;100m─\u001b[0m\u001b[38;5;100m─\u001b[0m\u001b[38;5;100m─\u001b[0m\u001b[38;5;100m─\u001b[0m\u001b[38;5;100m─\u001b[0m\u001b[38;5;100m─\u001b[0m\u001b[38;5;100m─\u001b[0m\u001b[38;5;100m─\u001b[0m\u001b[38;5;100m─\u001b[0m\u001b[38;5;100m─\u001b[0m\u001b[38;5;100m─\u001b[0m\u001b[38;5;100m─\u001b[0m\u001b[38;5;100m─\u001b[0m\u001b[38;5;100m─\u001b[0m\u001b[38;5;100m─\u001b[0m\u001b[38;5;100m─\u001b[0m\u001b[38;5;100m─\u001b[0m\u001b[38;5;100m─\u001b[0m\u001b[38;5;100m─\u001b[0m\u001b[38;5;100m─\u001b[0m\u001b[38;5;100m─\u001b[0m\u001b[38;5;100m─\u001b[0m\u001b[38;5;100m─\u001b[0m\u001b[38;5;100m─\u001b[0m\u001b[38;5;100m─\u001b[0m\u001b[38;5;100m─\u001b[0m\u001b[38;5;100m─\u001b[0m\u001b[38;5;100m─\u001b[0m implicitly returns `()` as its body has no tail or `return` expression",
      " \u001b[38;5;240m  │\u001b[0m                                                           \u001b[38;5;54m│\u001b[0m       ",
      " \u001b[38;5;240m  │\u001b[0m                                                           \u001b[38;5;54m╰\u001b[0m\u001b[38;5;54m─\u001b[0m\u001b[38;5;54m─\u001b[0m\u001b[38;5;54m─\u001b[0m\u001b[38;5;54m─\u001b[0m\u001b[38;5;54m─\u001b[0m\u001b[38;5;54m─\u001b[0m\u001b[38;5;54m─\u001b[0m expected `Vec<&str>`, found `()`",
      "\u001b[38;5;246m───╯\u001b[0m"
     ]
    },
    {
     "ename": "Error",
     "evalue": "mismatched types",
     "output_type": "error",
     "traceback": [
      "\u001b[31m[E0308] Error:\u001b[0m mismatched types",
      "   \u001b[38;5;246m╭\u001b[0m\u001b[38;5;246m─\u001b[0m\u001b[38;5;246m[\u001b[0mcommand_89:1:1\u001b[38;5;246m]\u001b[0m",
      "   \u001b[38;5;246m│\u001b[0m",
      " \u001b[38;5;246m6 │\u001b[0m \u001b[38;5;100ma\u001b[0m\u001b[38;5;100mn\u001b[0m\u001b[38;5;100ma\u001b[0m\u001b[38;5;100mg\u001b[0m\u001b[38;5;100mr\u001b[0m\u001b[38;5;100ma\u001b[0m\u001b[38;5;100mm\u001b[0m\u001b[38;5;100ms\u001b[0m\u001b[38;5;100m_\u001b[0m\u001b[38;5;100mf\u001b[0m\u001b[38;5;100mo\u001b[0m\u001b[38;5;100mr\u001b[0m\u001b[38;5;249m(\u001b[0m\u001b[38;5;249m\"\u001b[0m\u001b[38;5;249md\u001b[0m\u001b[38;5;249mi\u001b[0m\u001b[38;5;249ma\u001b[0m\u001b[38;5;249mp\u001b[0m\u001b[38;5;249me\u001b[0m\u001b[38;5;249mr\u001b[0m\u001b[38;5;249m\"\u001b[0m\u001b[38;5;249m,\u001b[0m\u001b[38;5;249m \u001b[0m\u001b[38;5;54mi\u001b[0m\u001b[38;5;54mn\u001b[0m\u001b[38;5;54mp\u001b[0m\u001b[38;5;54mu\u001b[0m\u001b[38;5;54mt\u001b[0m\u001b[38;5;54ms\u001b[0m\u001b[38;5;249m)\u001b[0m\u001b[38;5;249m;\u001b[0m",
      " \u001b[38;5;240m  │\u001b[0m \u001b[38;5;100m─\u001b[0m\u001b[38;5;100m─\u001b[0m\u001b[38;5;100m─\u001b[0m\u001b[38;5;100m─\u001b[0m\u001b[38;5;100m─\u001b[0m\u001b[38;5;100m─\u001b[0m\u001b[38;5;100m┬\u001b[0m\u001b[38;5;100m─\u001b[0m\u001b[38;5;100m─\u001b[0m\u001b[38;5;100m─\u001b[0m\u001b[38;5;100m─\u001b[0m\u001b[38;5;100m─\u001b[0m           \u001b[38;5;68m┬\u001b[0m\u001b[38;5;54m─\u001b[0m\u001b[38;5;54m─\u001b[0m\u001b[38;5;54m┬\u001b[0m\u001b[38;5;54m─\u001b[0m\u001b[38;5;54m─\u001b[0m  ",
      " \u001b[38;5;240m  │\u001b[0m       \u001b[38;5;100m╰\u001b[0m\u001b[38;5;100m─\u001b[0m\u001b[38;5;100m─\u001b[0m\u001b[38;5;100m─\u001b[0m\u001b[38;5;100m─\u001b[0m\u001b[38;5;100m─\u001b[0m\u001b[38;5;100m─\u001b[0m\u001b[38;5;100m─\u001b[0m\u001b[38;5;100m─\u001b[0m\u001b[38;5;100m─\u001b[0m\u001b[38;5;100m─\u001b[0m\u001b[38;5;100m─\u001b[0m\u001b[38;5;100m─\u001b[0m\u001b[38;5;100m─\u001b[0m\u001b[38;5;100m─\u001b[0m\u001b[38;5;100m─\u001b[0m\u001b[38;5;100m─\u001b[0m\u001b[38;5;100m─\u001b[0m\u001b[38;5;100m─\u001b[0m\u001b[38;5;100m─\u001b[0m\u001b[38;5;100m─\u001b[0m\u001b[38;5;100m─\u001b[0m\u001b[38;5;100m─\u001b[0m\u001b[38;5;100m─\u001b[0m\u001b[38;5;100m─\u001b[0m arguments to this function are incorrect",
      " \u001b[38;5;240m  │\u001b[0m                        \u001b[38;5;68m│\u001b[0m  \u001b[38;5;54m│\u001b[0m    ",
      " \u001b[38;5;240m  │\u001b[0m                        \u001b[38;5;68m╰\u001b[0m\u001b[38;5;68m─\u001b[0m\u001b[38;5;68m─\u001b[0m\u001b[38;5;68m─\u001b[0m\u001b[38;5;68m─\u001b[0m\u001b[38;5;68m─\u001b[0m\u001b[38;5;68m─\u001b[0m\u001b[38;5;68m─\u001b[0m help: consider borrowing here: `&`",
      " \u001b[38;5;240m  │\u001b[0m                           \u001b[38;5;54m│\u001b[0m    ",
      " \u001b[38;5;240m  │\u001b[0m                           \u001b[38;5;54m╰\u001b[0m\u001b[38;5;54m─\u001b[0m\u001b[38;5;54m─\u001b[0m\u001b[38;5;54m─\u001b[0m\u001b[38;5;54m─\u001b[0m expected `&[&str]`, found `Vec<&str>`",
      "\u001b[38;5;246m───╯\u001b[0m"
     ]
    }
   ],
   "source": [
    "fn anagrams_for<'a>(word: &str, inp: &[&'a str]) -> Vec<&'a str>{\n",
    "\n",
    "}\n",
    "\n",
    "let inputs = vec![\"hello\", \"world\", \"zombies\", \"pants\"];\n",
    "let vector = anagrams_for(\"diaper\", inputs);\n",
    "match result(vector)[\n",
    "  None: pr\n",
    "\n",
    "]\n"
   ]
  },
  {
   "cell_type": "code",
   "execution_count": null,
   "metadata": {},
   "outputs": [],
   "source": [
    "vector_to_func();"
   ]
  },
  {
   "cell_type": "markdown",
   "metadata": {},
   "source": [
    "# display all env in a shell"
   ]
  },
  {
   "cell_type": "markdown",
   "metadata": {},
   "source": [
    "- [FROM HERE](https://play.rust-lang.org/?version=stable&mode=debug&edition=2018&gist=f525b0348c7b7939c520b23f833641b3)\n",
    "- [FROM HERE 2](https://stackoverflow.com/questions/69540812/how-to-return-current-working-directory-from-function)"
   ]
  },
  {
   "cell_type": "code",
   "execution_count": null,
   "metadata": {},
   "outputs": [],
   "source": [
    ":dep regex"
   ]
  },
  {
   "cell_type": "code",
   "execution_count": null,
   "metadata": {},
   "outputs": [],
   "source": [
    "use std::path::PathBuf;\n",
    "use std::fs;\n",
    "use std::env;\n",
    "// use serde_json;\n",
    "use regex::Regex;\n",
    "\n",
    "fn determinate_file_size(file: &str) -> u64 {\n",
    "    fs::metadata(file).unwrap().len()\n",
    "}\n",
    "\n",
    "fn determinate_is_it_file_or_dirctory(arg: &str) -> &str {\n",
    "    let file = \"File\";\n",
    "    let dir = \"Directory\";\n",
    "    let re = Regex::new(r\"/\").unwrap();\n",
    "    if re.is_match(arg) {\n",
    "        return dir;\n",
    "    }\n",
    "    return file;\n",
    "}\n",
    "\n",
    "fn collect_user_arguments() -> Vec<String> {\n",
    "    env::args().collect()\n",
    "}\n",
    "\n",
    "fn check_if_arguments_count_valid(args: &Vec<String>) -> bool {\n",
    "    if args.len() == 3 {\n",
    "        return true\n",
    "    }\n",
    "    help();\n",
    "    return false\n",
    "}\n",
    "\n",
    "fn get_current_working_dir() -> std::io::Result<PathBuf> {\n",
    "    env::current_exe()\n",
    "}\n",
    "\n",
    "\n",
    "//set dir = env::current_dir().unwrap();\n",
    "\n",
    "fn help() {\n",
    "    println!(\"Examples:\");\n",
    "    println!(\"rcp [srcfile] [destfile]\");\n",
    "    println!(\"rcp [srcdir]/[srcfile] [destdir]/[destfile]\");\n",
    "}\n",
    "\n",
    "\n",
    "fn main_vars() {\n",
    "    let WORKING_DIR = get_current_working_dir();\n",
    "    println!(\"working dir => {:?} \",WORKING_DIR);\n",
    "    /*\n",
    "    let args: Vec<String> = collect_user_arguments();\n",
    "\n",
    "    if check_if_arguments_count_valid(&args) {\n",
    "        let arg1 = &args[1];\n",
    "        let arg2 = &args[2];\n",
    "        println!(\"{:#?}\", determinate_is_it_file_or_directory(&arg1));\n",
    "    }*/\n",
    "    \n",
    "    for name in env::vars(){\n",
    "\n",
    "        println!(\"{:?}\",name);\n",
    "    }\n",
    "\n",
    "\n",
    "}"
   ]
  },
  {
   "cell_type": "code",
   "execution_count": null,
   "metadata": {},
   "outputs": [],
   "source": [
    "main_vars();"
   ]
  }
 ],
 "metadata": {
  "kernelspec": {
   "display_name": "Rust",
   "language": "rust",
   "name": "rust"
  },
  "language_info": {
   "codemirror_mode": "rust",
   "file_extension": ".rs",
   "mimetype": "text/rust",
   "name": "rust",
   "pygment_lexer": "rust",
   "version": ""
  },
  "orig_nbformat": 4
 },
 "nbformat": 4,
 "nbformat_minor": 2
}
