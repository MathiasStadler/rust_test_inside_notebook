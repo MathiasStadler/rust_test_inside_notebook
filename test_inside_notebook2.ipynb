{
 "cells": [
  {
   "cell_type": "markdown",
   "metadata": {},
   "source": [
    "# Test (rust) inside notebook, run test inside the /temp folder of the notebook "
   ]
  },
  {
   "cell_type": "markdown",
   "metadata": {},
   "source": [
    "## first example => parts of shell command ls -l -> for check of the correct command"
   ]
  },
  {
   "cell_type": "markdown",
   "metadata": {},
   "source": [
    "- working directory"
   ]
  },
  {
   "cell_type": "code",
   "execution_count": 2,
   "metadata": {
    "vscode": {
     "languageId": "rust"
    }
   },
   "outputs": [
    {
     "data": {
      "text/plain": [
       "\"/tmp/.tmpyzM64n\"\n"
      ]
     },
     "execution_count": 2,
     "metadata": {},
     "output_type": "execute_result"
    }
   ],
   "source": [
    ":last_compile_dir"
   ]
  },
  {
   "cell_type": "markdown",
   "metadata": {},
   "source": [
    "- code"
   ]
  },
  {
   "cell_type": "code",
   "execution_count": 3,
   "metadata": {
    "vscode": {
     "languageId": "rust"
    }
   },
   "outputs": [],
   "source": [
    "use std::process::Command;\n",
    "\n",
    "fn main() {\n",
    "    let mut command = Command::new(\"ls\");\n",
    "    command.arg(\"-l\");\n",
    "    let command_string: String = std::format!(\"{:?}\", command);\n",
    "\n",
    "    // Print the command_string to standard output\n",
    "    println!(\"cmd: {}\", command_string);\n",
    "\n",
    "    // split the command string accordinig to whitespace\n",
    "    let command_parts = command_string.split(' ');\n",
    "\n",
    "    // print the individual parts of the command_string\n",
    "    for (index, part) in command_parts.enumerate() {\n",
    "        println!(\"part[{}]: {}\", index, part);\n",
    "    }\n",
    "}\n"
   ]
  },
  {
   "cell_type": "code",
   "execution_count": 4,
   "metadata": {
    "vscode": {
     "languageId": "rust"
    }
   },
   "outputs": [
    {
     "name": "stdout",
     "output_type": "stream",
     "text": [
      "cmd: \"ls\" \"-l\"\n"
     ]
    },
    {
     "name": "stdout",
     "output_type": "stream",
     "text": [
      "part[0]: \"ls\"\n",
      "part[1]: \"-l\"\n"
     ]
    }
   ],
   "source": [
    "main();"
   ]
  },
  {
   "cell_type": "markdown",
   "metadata": {},
   "source": [
    "# execute command inside shell"
   ]
  },
  {
   "cell_type": "code",
   "execution_count": 6,
   "metadata": {
    "vscode": {
     "languageId": "rust"
    }
   },
   "outputs": [],
   "source": [
    "use std::process::Command;\n",
    "\n",
    "fn main_execute_cmd(){\n",
    "let mut list_dir = Command::new(\"ls\");\n",
    "list_dir.arg(\"-l\");\n",
    "\n",
    "\n",
    "\n",
    "// Execute `ls` in the current directory of the program.\n",
    "list_dir.status().expect(\"process failed to execute\");\n",
    "\n",
    "println!();\n",
    "\n",
    "// Change `ls` to execute in the root directory.\n",
    "list_dir.current_dir(\"./\");\n",
    "\n",
    "// And then execute `ls` again but in the root directory.\n",
    "list_dir.status().expect(\"process failed to execute\");\n",
    "}"
   ]
  },
  {
   "cell_type": "code",
   "execution_count": 7,
   "metadata": {
    "vscode": {
     "languageId": "rust"
    }
   },
   "outputs": [
    {
     "name": "stdout",
     "output_type": "stream",
     "text": [
      "insgesamt 60\n",
      "-rw-rw-r-- 1 trapapa trapapa   169 Sep  4 08:19 Cargo.lock\n",
      "-rw-rw-r-- 1 trapapa trapapa   194 Sep  4 08:11 Cargo.toml\n",
      "drwxrwxr-x 2 trapapa trapapa  4096 Sep  4 08:11 src\n",
      "drwxrwxr-x 3 trapapa trapapa  4096 Sep  4 08:19 target\n",
      "-rw-rw-r-- 1 trapapa trapapa 21589 Sep  4 11:17 test_inside_notebook1.ipynb\n",
      "-rw-rw-r-- 1 trapapa trapapa 20444 Sep  4 12:14 test_inside_notebook2.ipynb\n",
      "\n",
      "insgesamt 60\n",
      "-rw-rw-r-- 1 trapapa trapapa   169 Sep  4 08:19 Cargo.lock\n",
      "-rw-rw-r-- 1 trapapa trapapa   194 Sep  4 08:11 Cargo.toml\n",
      "drwxrwxr-x 2 trapapa trapapa  4096 Sep  4 08:11 src\n",
      "drwxrwxr-x 3 trapapa trapapa  4096 Sep  4 08:19 target\n",
      "-rw-rw-r-- 1 trapapa trapapa 21589 Sep  4 11:17 test_inside_notebook1.ipynb\n",
      "-rw-rw-r-- 1 trapapa trapapa 20444 Sep  4 12:14 test_inside_notebook2.ipynb\n"
     ]
    }
   ],
   "source": [
    "main_execute_cmd();"
   ]
  },
  {
   "cell_type": "markdown",
   "metadata": {},
   "source": [
    "# same cmd in another directory"
   ]
  },
  {
   "cell_type": "code",
   "execution_count": 43,
   "metadata": {
    "vscode": {
     "languageId": "rust"
    }
   },
   "outputs": [],
   "source": [
    "use std::process::Command;\n",
    "\n",
    "fn main_change_dir_to_src(){\n",
    "let mut list_dir = Command::new(\"ls\");\n",
    "list_dir.arg(\"-l\");\n",
    "\n",
    "// Change `ls` to execute in the root directory.\n",
    "// HERE change we are the directory\n",
    "list_dir.current_dir(\"src\");\n",
    "\n",
    "// Execute `ls` in the current directory of the program.\n",
    "list_dir.status().expect(\"process failed to execute\");\n",
    "\n",
    "/* \n",
    "println!();\n",
    "\n",
    "// Change `ls` to execute in the root directory.\n",
    "// HERE change we are the directory\n",
    "list_dir.current_dir(\"./src\");\n",
    "\n",
    "// And then execute `ls` again but in the root directory.\n",
    "list_dir.status().expect(\"process failed to execute\");\n",
    "*/\n",
    "}"
   ]
  },
  {
   "cell_type": "code",
   "execution_count": 44,
   "metadata": {
    "vscode": {
     "languageId": "rust"
    }
   },
   "outputs": [
    {
     "name": "stdout",
     "output_type": "stream",
     "text": [
      "insgesamt 4\n",
      "-rw-rw-r-- 1 trapapa trapapa 45 Sep  4 08:11 main.rs\n"
     ]
    }
   ],
   "source": [
    "main_change_dir_to_src();"
   ]
  },
  {
   "cell_type": "markdown",
   "metadata": {},
   "source": [
    "# cmd pwd inside actual shell"
   ]
  },
  {
   "cell_type": "code",
   "execution_count": 16,
   "metadata": {
    "vscode": {
     "languageId": "rust"
    }
   },
   "outputs": [],
   "source": [
    "use std::process::Command;\n",
    "\n",
    "fn main_call_pwd(){\n",
    "    let mut list_dir = Command::new(\"pwd\");\n",
    "    //list_dir.arg(\"-l\");\n",
    "\n",
    "    // Change `ls` to execute in the root directory.\n",
    "    // HERE change we are the directory\n",
    "    list_dir.current_dir(\"./src\");\n",
    "\n",
    "    // Execute `ls` in the current directory of the program.\n",
    "    list_dir.status().expect(\"process failed to execute\");\n",
    "}\n"
   ]
  },
  {
   "cell_type": "code",
   "execution_count": 18,
   "metadata": {
    "vscode": {
     "languageId": "rust"
    }
   },
   "outputs": [
    {
     "name": "stdout",
     "output_type": "stream",
     "text": [
      "/home/trapapa/rust_test_inside_notebook/src\n"
     ]
    }
   ],
   "source": [
    "main_call_pwd();"
   ]
  },
  {
   "cell_type": "markdown",
   "metadata": {},
   "source": [
    "# get env variable evcr notebook e.g. user\n",
    "\n",
    "- [in python](https://ericmjl.github.io/blog/2021/5/14/set-environment-variables-inside-a-jupyter-notebook/)\n",
    "- [in rust](https://www.thorsten-hans.com/working-with-environment-variables-in-rust/)"
   ]
  },
  {
   "cell_type": "code",
   "execution_count": 21,
   "metadata": {
    "vscode": {
     "languageId": "rust"
    }
   },
   "outputs": [],
   "source": [
    "use std::env;\n",
    "\n",
    "fn main_user() {\n",
    "    let u = match env::var_os(\"USER\") {\n",
    "        Some(v) => v.into_string().unwrap(),\n",
    "        None => panic!(\"$USER is not set\")\n",
    "    };\n",
    "    println!(\"Got username: {}\", u);\n",
    "}"
   ]
  },
  {
   "cell_type": "code",
   "execution_count": 22,
   "metadata": {
    "vscode": {
     "languageId": "rust"
    }
   },
   "outputs": [
    {
     "name": "stdout",
     "output_type": "stream",
     "text": [
      "Got username: trapapa\n"
     ]
    }
   ],
   "source": [
    "main_user();"
   ]
  },
  {
   "cell_type": "markdown",
   "metadata": {},
   "source": [
    "# set env 'TEMP_KEY' with VALUE 'TEMP_VALUE'"
   ]
  },
  {
   "cell_type": "code",
   "execution_count": 25,
   "metadata": {
    "vscode": {
     "languageId": "rust"
    }
   },
   "outputs": [],
   "source": [
    "use std::env;\n",
    "fn main_set_env() {\n",
    "    let key = \"TEMP_KEY\";\n",
    "    env::set_var(key, \"TEMP_VALUE\");\n",
    "    assert_eq!(env::var(key), Ok(\"TEMP_VALUE\".to_string()));\n",
    "}\n"
   ]
  },
  {
   "cell_type": "code",
   "execution_count": 26,
   "metadata": {
    "vscode": {
     "languageId": "rust"
    }
   },
   "outputs": [],
   "source": [
    "main_set_env();"
   ]
  },
  {
   "cell_type": "code",
   "execution_count": 28,
   "metadata": {
    "vscode": {
     "languageId": "rust"
    }
   },
   "outputs": [],
   "source": [
    "use std::env;\n",
    "\n",
    "fn main_get_env() {\n",
    "    let u = match env::var_os(\"TEMP_KEY\") {\n",
    "        Some(v) => v.into_string().unwrap(),\n",
    "        None => panic!(\"$USER is not set\")\n",
    "    };\n",
    "    println!(\"Got value of EMP_KEY: {}\", u);\n",
    "}"
   ]
  },
  {
   "cell_type": "code",
   "execution_count": 29,
   "metadata": {
    "vscode": {
     "languageId": "rust"
    }
   },
   "outputs": [
    {
     "name": "stdout",
     "output_type": "stream",
     "text": [
      "Got value of EMP_KEY: TEMP_VALUE\n"
     ]
    }
   ],
   "source": [
    "main_get_env();"
   ]
  },
  {
   "cell_type": "markdown",
   "metadata": {},
   "source": [
    "# call in shell cmd *PWD*"
   ]
  },
  {
   "cell_type": "code",
   "execution_count": 30,
   "metadata": {
    "vscode": {
     "languageId": "rust"
    }
   },
   "outputs": [],
   "source": [
    "use std::env;\n",
    "\n",
    "fn main_get_env_pwd() {\n",
    "    let u = match env::var_os(\"PWD\") {\n",
    "        Some(v) => v.into_string().unwrap(),\n",
    "        None => panic!(\"$USER is not set\")\n",
    "    };\n",
    "    println!(\"Got value of KEY: {}\", u);\n",
    "}"
   ]
  },
  {
   "cell_type": "code",
   "execution_count": 31,
   "metadata": {
    "vscode": {
     "languageId": "rust"
    }
   },
   "outputs": [
    {
     "name": "stdout",
     "output_type": "stream",
     "text": [
      "Got value of KEY: /home/trapapa/rust_test_inside_notebook\n"
     ]
    }
   ],
   "source": [
    "main_get_env_pwd();"
   ]
  },
  {
   "cell_type": "markdown",
   "metadata": {},
   "source": [
    "# display all env in a shell"
   ]
  },
  {
   "cell_type": "markdown",
   "metadata": {},
   "source": [
    "- [FROM HERE](https://play.rust-lang.org/?version=stable&mode=debug&edition=2018&gist=f525b0348c7b7939c520b23f833641b3)\n",
    "- [FROM HERE 2](https://stackoverflow.com/questions/69540812/how-to-return-current-working-directory-from-function)"
   ]
  },
  {
   "cell_type": "code",
   "execution_count": 32,
   "metadata": {
    "vscode": {
     "languageId": "rust"
    }
   },
   "outputs": [],
   "source": [
    ":dep regex"
   ]
  },
  {
   "cell_type": "code",
   "execution_count": 35,
   "metadata": {
    "vscode": {
     "languageId": "rust"
    }
   },
   "outputs": [],
   "source": [
    "use std::path::PathBuf;\n",
    "use std::fs;\n",
    "use std::env;\n",
    "// use serde_json;\n",
    "use regex::Regex;\n",
    "\n",
    "fn determinate_file_size(file: &str) -> u64 {\n",
    "    fs::metadata(file).unwrap().len()\n",
    "}\n",
    "\n",
    "fn determinate_is_it_file_or_dirctory(arg: &str) -> &str {\n",
    "    let file = \"File\";\n",
    "    let dir = \"Directory\";\n",
    "    let re = Regex::new(r\"/\").unwrap();\n",
    "    if re.is_match(arg) {\n",
    "        return dir;\n",
    "    }\n",
    "    return file;\n",
    "}\n",
    "\n",
    "fn collect_user_arguments() -> Vec<String> {\n",
    "    env::args().collect()\n",
    "}\n",
    "\n",
    "fn check_if_arguments_count_valid(args: &Vec<String>) -> bool {\n",
    "    if args.len() == 3 {\n",
    "        return true\n",
    "    }\n",
    "    help();\n",
    "    return false\n",
    "}\n",
    "\n",
    "fn get_current_working_dir() -> std::io::Result<PathBuf> {\n",
    "    env::current_exe()\n",
    "}\n",
    "\n",
    "fn help() {\n",
    "    println!(\"Examples:\");\n",
    "    println!(\"rcp [srcfile] [destfile]\");\n",
    "    println!(\"rcp [srcdir]/[srcfile] [destdir]/[destfile]\");\n",
    "}\n",
    "\n",
    "\n",
    "fn main_vars() {\n",
    "    let WORKING_DIR = get_current_working_dir();\n",
    "    println!(\"working dir => {:?} \",WORKING_DIR);\n",
    "    /*\n",
    "    let args: Vec<String> = collect_user_arguments();\n",
    "\n",
    "    if check_if_arguments_count_valid(&args) {\n",
    "        let arg1 = &args[1];\n",
    "        let arg2 = &args[2];\n",
    "        println!(\"{:#?}\", determinate_is_it_file_or_directory(&arg1));\n",
    "    }*/\n",
    "    \n",
    "    for name in env::vars(){\n",
    "\n",
    "        println!(\"{:?}\",name);\n",
    "    }\n",
    "\n",
    "\n",
    "}"
   ]
  },
  {
   "cell_type": "code",
   "execution_count": 36,
   "metadata": {
    "vscode": {
     "languageId": "rust"
    }
   },
   "outputs": [
    {
     "name": "stdout",
     "output_type": "stream",
     "text": [
      "working dir => Ok(\"/home/trapapa/.cargo/bin/evcxr_jupyter\") \n",
      "(\"CHROME_DESKTOP\", \"code-url-handler.desktop\")\n",
      "(\"COLORTERM\", \"truecolor\")\n"
     ]
    },
    {
     "name": "stdout",
     "output_type": "stream",
     "text": [
      "(\"CONDA_DEFAULT_ENV\", \"base\")\n",
      "(\"CONDA_EXE\", \"/home/trapapa/miniconda3_1/bin/conda\")\n",
      "(\"CONDA_PREFIX\", \"/home/trapapa/miniconda3_1\")\n",
      "(\"CONDA_PROMPT_MODIFIER\", \"(base) \")\n",
      "(\"CONDA_PYTHON_EXE\", \"/home/trapapa/miniconda3_1/bin/python\")\n",
      "(\"CONDA_SHLVL\", \"1\")\n",
      "(\"DBUS_SESSION_BUS_ADDRESS\", \"unix:path=/run/user/1000/bus\")\n",
      "(\"DESKTOP_SESSION\", \"ubuntu\")\n",
      "(\"DISPLAY\", \":0\")\n",
      "(\"ELECTRON_NO_ATTACH_CONSOLE\", \"1\")\n",
      "(\"ELECTRON_RUN_AS_NODE\", \"1\")\n",
      "(\"EVCXR_IS_RUNTIME\", \"1\")\n",
      "(\"GDK_BACKEND\", \"x11\")\n",
      "(\"GDK_PIXBUF_MODULEDIR\", \"/snap/code/137/usr/lib/x86_64-linux-gnu/gdk-pixbuf-2.0/2.10.0/loaders\")\n",
      "(\"GDK_PIXBUF_MODULE_FILE\", \"/home/trapapa/snap/code/common/.cache/gdk-pixbuf-loaders.cache\")\n",
      "(\"GDMSESSION\", \"ubuntu\")\n",
      "(\"GIO_MODULE_DIR\", \"/home/trapapa/snap/code/common/.cache/gio-modules\")\n",
      "(\"GNOME_DESKTOP_SESSION_ID\", \"this-is-deprecated\")\n",
      "(\"GNOME_SETUP_DISPLAY\", \":1\")\n",
      "(\"GNOME_SHELL_SESSION_MODE\", \"ubuntu\")\n",
      "(\"GNOME_TERMINAL_SCREEN\", \"/org/gnome/Terminal/screen/ee0f9baf_6589_48a6_8223_7144fcab3240\")\n",
      "(\"GNOME_TERMINAL_SERVICE\", \":1.121\")\n",
      "(\"GSETTINGS_SCHEMA_DIR\", \"/home/trapapa/snap/code/137/.local/share/glib-2.0/schemas\")\n",
      "(\"GTK_EXE_PREFIX\", \"/snap/code/137/usr\")\n",
      "(\"GTK_IM_MODULE_FILE\", \"/home/trapapa/snap/code/common/.cache/immodules/immodules.cache\")\n",
      "(\"GTK_MODULES\", \"gail:atk-bridge\")\n",
      "(\"GTK_PATH\", \"/snap/code/137/usr/lib/x86_64-linux-gnu/gtk-3.0\")\n",
      "(\"HOME\", \"/home/trapapa\")\n",
      "(\"IM_CONFIG_PHASE\", \"1\")\n",
      "(\"LANG\", \"de_DE.UTF-8\")\n",
      "(\"LESSCLOSE\", \"/usr/bin/lesspipe %s %s\")\n",
      "(\"LESSOPEN\", \"| /usr/bin/lesspipe %s\")\n",
      "(\"LIBVIRT_DEFAULT_URI\", \"qemu:///system\")\n",
      "(\"LOCPATH\", \"/snap/code/137/usr/lib/locale\")\n",
      "(\"LOGNAME\", \"trapapa\")\n",
      "(\"LS_COLORS\", \"rs=0:di=01;34:ln=01;36:mh=00:pi=40;33:so=01;35:do=01;35:bd=40;33;01:cd=40;33;01:or=40;31;01:mi=00:su=37;41:sg=30;43:ca=30;41:tw=30;42:ow=34;42:st=37;44:ex=01;32:*.tar=01;31:*.tgz=01;31:*.arc=01;31:*.arj=01;31:*.taz=01;31:*.lha=01;31:*.lz4=01;31:*.lzh=01;31:*.lzma=01;31:*.tlz=01;31:*.txz=01;31:*.tzo=01;31:*.t7z=01;31:*.zip=01;31:*.z=01;31:*.dz=01;31:*.gz=01;31:*.lrz=01;31:*.lz=01;31:*.lzo=01;31:*.xz=01;31:*.zst=01;31:*.tzst=01;31:*.bz2=01;31:*.bz=01;31:*.tbz=01;31:*.tbz2=01;31:*.tz=01;31:*.deb=01;31:*.rpm=01;31:*.jar=01;31:*.war=01;31:*.ear=01;31:*.sar=01;31:*.rar=01;31:*.alz=01;31:*.ace=01;31:*.zoo=01;31:*.cpio=01;31:*.7z=01;31:*.rz=01;31:*.cab=01;31:*.wim=01;31:*.swm=01;31:*.dwm=01;31:*.esd=01;31:*.jpg=01;35:*.jpeg=01;35:*.mjpg=01;35:*.mjpeg=01;35:*.gif=01;35:*.bmp=01;35:*.pbm=01;35:*.pgm=01;35:*.ppm=01;35:*.tga=01;35:*.xbm=01;35:*.xpm=01;35:*.tif=01;35:*.tiff=01;35:*.png=01;35:*.svg=01;35:*.svgz=01;35:*.mng=01;35:*.pcx=01;35:*.mov=01;35:*.mpg=01;35:*.mpeg=01;35:*.m2v=01;35:*.mkv=01;35:*.webm=01;35:*.webp=01;35:*.ogm=01;35:*.mp4=01;35:*.m4v=01;35:*.mp4v=01;35:*.vob=01;35:*.qt=01;35:*.nuv=01;35:*.wmv=01;35:*.asf=01;35:*.rm=01;35:*.rmvb=01;35:*.flc=01;35:*.avi=01;35:*.fli=01;35:*.flv=01;35:*.gl=01;35:*.dl=01;35:*.xcf=01;35:*.xwd=01;35:*.yuv=01;35:*.cgm=01;35:*.emf=01;35:*.ogv=01;35:*.ogx=01;35:*.aac=00;36:*.au=00;36:*.flac=00;36:*.m4a=00;36:*.mid=00;36:*.midi=00;36:*.mka=00;36:*.mp3=00;36:*.mpc=00;36:*.ogg=00;36:*.ra=00;36:*.wav=00;36:*.oga=00;36:*.opus=00;36:*.spx=00;36:*.xspf=00;36:\")\n",
      "(\"OLDPWD\", \"/home/trapapa\")\n",
      "(\"ORIGINAL_XDG_CURRENT_DESKTOP\", \"ubuntu:GNOME\")\n",
      "(\"PATH\", \"/home/trapapa/miniconda3_1/bin:/home/trapapa/miniconda3_1/condabin:/home/trapapa/.cargo/bin:/home/trapapa/.local/bin:/usr/local/sbin:/usr/local/bin:/usr/sbin:/usr/bin:/sbin:/bin:/usr/games:/usr/local/games:/snap/bin:/snap/bin\")\n",
      "(\"PWD\", \"/home/trapapa/rust_test_inside_notebook\")\n",
      "(\"PYTHONIOENCODING\", \"utf-8\")\n",
      "(\"PYTHONUNBUFFERED\", \"1\")\n",
      "(\"QT_ACCESSIBILITY\", \"1\")\n",
      "(\"QT_IM_MODULE\", \"ibus\")\n",
      "(\"RUST_BACKTRACE\", \"1\")\n",
      "(\"SESSION_MANAGER\", \"local/trapapa-ThinkPad-E450:@/tmp/.ICE-unix/2200,unix/trapapa-ThinkPad-E450:/tmp/.ICE-unix/2200\")\n",
      "(\"SHELL\", \"/bin/bash\")\n",
      "(\"SHLVL\", \"1\")\n",
      "(\"SNAP\", \"/snap/code/137\")\n",
      "(\"SNAP_ARCH\", \"amd64\")\n",
      "(\"SNAP_COMMON\", \"/var/snap/code/common\")\n",
      "(\"SNAP_CONTEXT\", \"9M51KhdlzknAlIqm2XTPXzVBbVPRPkhIXN1ZxmWXbkd0HTgTz-CC\")\n",
      "(\"SNAP_COOKIE\", \"9M51KhdlzknAlIqm2XTPXzVBbVPRPkhIXN1ZxmWXbkd0HTgTz-CC\")\n",
      "(\"SNAP_DATA\", \"/var/snap/code/137\")\n",
      "(\"SNAP_EUID\", \"1000\")\n",
      "(\"SNAP_INSTANCE_NAME\", \"code\")\n",
      "(\"SNAP_LAUNCHER_ARCH_TRIPLET\", \"x86_64-linux-gnu\")\n",
      "(\"SNAP_LIBRARY_PATH\", \"/var/lib/snapd/lib/gl:/var/lib/snapd/lib/gl32:/var/lib/snapd/void\")\n",
      "(\"SNAP_NAME\", \"code\")\n",
      "(\"SNAP_REAL_HOME\", \"/home/trapapa\")\n",
      "(\"SNAP_REVISION\", \"137\")\n",
      "(\"SNAP_UID\", \"1000\")\n",
      "(\"SNAP_USER_COMMON\", \"/home/trapapa/snap/code/common\")\n",
      "(\"SNAP_USER_DATA\", \"/home/trapapa/snap/code/137\")\n",
      "(\"SNAP_VERSION\", \"6c3e3dba\")\n",
      "(\"SSH_AGENT_LAUNCHER\", \"gnome-keyring\")\n",
      "(\"SSH_AUTH_SOCK\", \"/run/user/1000/keyring/ssh\")\n",
      "(\"SYSTEMD_EXEC_PID\", \"2228\")\n",
      "(\"TERM\", \"xterm-256color\")\n",
      "(\"USER\", \"trapapa\")\n",
      "(\"USERNAME\", \"trapapa\")\n",
      "(\"VSCODE_AMD_ENTRYPOINT\", \"vs/workbench/api/node/extensionHostProcess\")\n",
      "(\"VSCODE_CLI\", \"1\")\n",
      "(\"VSCODE_CODE_CACHE_PATH\", \"/home/trapapa/.config/Code/CachedData/6c3e3dba23e8fadc360aed75ce363ba185c49794\")\n",
      "(\"VSCODE_CRASH_REPORTER_PROCESS_TYPE\", \"extensionHost\")\n",
      "(\"VSCODE_CWD\", \"/home/trapapa/rust_test_inside_notebook\")\n",
      "(\"VSCODE_HANDLES_UNCAUGHT_ERRORS\", \"true\")\n",
      "(\"VSCODE_IPC_HOOK\", \"/run/user/1000/vscode-f5eedffa-1.81-main.sock\")\n",
      "(\"VSCODE_L10N_BUNDLE_LOCATION\", \"\")\n",
      "(\"VSCODE_NLS_CONFIG\", \"{\\\"locale\\\":\\\"en-us\\\",\\\"osLocale\\\":\\\"de-de\\\",\\\"availableLanguages\\\":{},\\\"_languagePackSupport\\\":true}\")\n",
      "(\"VSCODE_PID\", \"4775\")\n",
      "(\"VTE_VERSION\", \"6800\")\n",
      "(\"WAYLAND_DISPLAY\", \"wayland-0\")\n",
      "(\"XAUTHORITY\", \"/run/user/1000/.mutter-Xwaylandauth.163QA2\")\n",
      "(\"XDG_CONFIG_DIRS\", \"/etc/xdg/xdg-ubuntu:/etc/xdg\")\n",
      "(\"XDG_CONFIG_DIRS_VSCODE_SNAP_ORIG\", \"/etc/xdg/xdg-ubuntu:/etc/xdg\")\n",
      "(\"XDG_CURRENT_DESKTOP\", \"Unity\")\n",
      "(\"XDG_DATA_DIRS\", \"/home/trapapa/snap/code/137/.local/share:/home/trapapa/snap/code/137:/snap/code/137/usr/share:/usr/share/ubuntu:/usr/local/share/:/usr/share/:/var/lib/snapd/desktop\")\n",
      "(\"XDG_DATA_DIRS_VSCODE_SNAP_ORIG\", \"/usr/share/ubuntu:/usr/local/share/:/usr/share/:/var/lib/snapd/desktop\")\n",
      "(\"XDG_MENU_PREFIX\", \"gnome-\")\n",
      "(\"XDG_RUNTIME_DIR\", \"/run/user/1000\")\n",
      "(\"XDG_SESSION_CLASS\", \"user\")\n",
      "(\"XDG_SESSION_DESKTOP\", \"ubuntu\")\n",
      "(\"XDG_SESSION_TYPE\", \"wayland\")\n",
      "(\"XMODIFIERS\", \"@im=ibus\")\n",
      "(\"TEMP_KEY\", \"TEMP_VALUE\")\n"
     ]
    }
   ],
   "source": [
    "main_vars();"
   ]
  }
 ],
 "metadata": {
  "kernelspec": {
   "display_name": "Rust",
   "language": "rust",
   "name": "rust"
  },
  "language_info": {
   "codemirror_mode": "rust",
   "file_extension": ".rs",
   "mimetype": "text/rust",
   "name": "Rust",
   "pygment_lexer": "rust",
   "version": ""
  },
  "orig_nbformat": 4
 },
 "nbformat": 4,
 "nbformat_minor": 2
}
